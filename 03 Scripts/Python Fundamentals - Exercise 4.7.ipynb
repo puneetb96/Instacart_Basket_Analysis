{
 "cells": [
  {
   "cell_type": "markdown",
   "id": "fa774959-6a46-44dc-8501-90b2c8513582",
   "metadata": {},
   "source": [
    "## Python Fundamentals - Exercise 4.7"
   ]
  },
  {
   "cell_type": "markdown",
   "id": "04004f38-c89c-451e-bf27-8cb8f98f0a20",
   "metadata": {},
   "source": [
    "1. Derive new variables using if-statements and for-loops\n",
    "    - Targeted Marketing\n",
    "    - Exclusion Flags\n",
    "    - Aggregated Data"
   ]
  },
  {
   "cell_type": "markdown",
   "id": "950ed05a-f41d-4863-abaf-8053dc4b2a4a",
   "metadata": {},
   "source": [
    "User-defined functions\n",
    "1. Definition of the name and arguments the function will take\n",
    "2. What the function is meant to do"
   ]
  },
  {
   "cell_type": "code",
   "execution_count": 1,
   "id": "867a2985-6054-41a7-9559-2e31395468da",
   "metadata": {},
   "outputs": [],
   "source": [
    "#Define Function\n",
    "def add_num(x,y):\n",
    "    sum = x + y\n",
    "    return sum"
   ]
  },
  {
   "cell_type": "code",
   "execution_count": 2,
   "id": "dd7c4979-feb7-4758-961c-1134580a34c1",
   "metadata": {},
   "outputs": [
    {
     "data": {
      "text/plain": [
       "20"
      ]
     },
     "execution_count": 2,
     "metadata": {},
     "output_type": "execute_result"
    }
   ],
   "source": [
    "# Run function\n",
    "add_num(9,11)"
   ]
  },
  {
   "cell_type": "markdown",
   "id": "33f8c571-200c-4a8d-a807-8d4ecb63ec03",
   "metadata": {},
   "source": [
    "## -"
   ]
  },
  {
   "cell_type": "markdown",
   "id": "1c1dc87d-b202-49ab-b19b-7fb7550acc19",
   "metadata": {},
   "source": [
    "## Import Libraries and Paths"
   ]
  },
  {
   "cell_type": "code",
   "execution_count": 3,
   "id": "c8df516e-b430-446f-85a9-4ed8919865db",
   "metadata": {},
   "outputs": [],
   "source": [
    "#Import Libraries\n",
    "import pandas as pd\n",
    "import numpy as np\n",
    "import os"
   ]
  },
  {
   "cell_type": "code",
   "execution_count": 4,
   "id": "7b39e9b0-c9be-464d-979a-b21a34a2e33b",
   "metadata": {},
   "outputs": [],
   "source": [
    "path = r'/Users/puneet/Desktop/Instacart Basket Analysis 08-2025'"
   ]
  },
  {
   "cell_type": "code",
   "execution_count": 5,
   "id": "4f923b0f-ce02-4e01-b13c-781e7e5c475e",
   "metadata": {},
   "outputs": [],
   "source": [
    "ords_prods_merge = pd.read_pickle(os.path.join(path, '02 Data', 'Prepared Data','ords_prods_merge.pkl'))"
   ]
  },
  {
   "cell_type": "code",
   "execution_count": 6,
   "id": "003e2173-6dc1-4e1d-a9b6-828d989e2402",
   "metadata": {},
   "outputs": [],
   "source": [
    "#Limit dataframe to 1 million rows\n",
    "df = ords_prods_merge[:1000000]"
   ]
  },
  {
   "cell_type": "code",
   "execution_count": 7,
   "id": "015e37e6-b34a-45bc-a779-96cba372a8ad",
   "metadata": {},
   "outputs": [
    {
     "data": {
      "text/plain": [
       "(1000000, 14)"
      ]
     },
     "execution_count": 7,
     "metadata": {},
     "output_type": "execute_result"
    }
   ],
   "source": [
    "#Check shape to see row count\n",
    "df.shape"
   ]
  },
  {
   "cell_type": "markdown",
   "id": "96ab4be0-5966-475a-ae8d-166a8f2bb154",
   "metadata": {},
   "source": [
    "## -"
   ]
  },
  {
   "cell_type": "markdown",
   "id": "0285a155-d161-44da-92d3-f95cd9008fb0",
   "metadata": {},
   "source": [
    "## If-Statements with User-Defined Functions"
   ]
  },
  {
   "cell_type": "code",
   "execution_count": 8,
   "id": "239de1ff-c23a-494a-bfaa-cea040bffb04",
   "metadata": {},
   "outputs": [],
   "source": [
    "# Create price label filter:\n",
    "def price_label(row):\n",
    "\n",
    "    if row['prices'] <= 5:\n",
    "        return 'Low-range product'\n",
    "    elif (row['prices'] > 5) and (row['prices'] <= 15):\n",
    "        return 'Mid-range product'\n",
    "    elif row['prices'] > 15:\n",
    "        return 'High range'\n",
    "    else: return np.nan"
   ]
  },
  {
   "cell_type": "markdown",
   "id": "d39d5fa6-08e1-42bd-8941-04200f997dfb",
   "metadata": {},
   "source": [
    "How label above function is read:\n",
    "- If the value within the “prices” column within the given row is less than or equal to 5, then return the string “Low-range product.”\n",
    "- Or else, if the value within the “prices” column within the given row is greater than 5 and less than or equal to 15, then return the string “Mid-range product.”\n",
    "- Or else, if the value of the “prices” column within the given row is greater than 15, then return the string “High-range product.”\n",
    "- Or else, return the string “Not enough data.”"
   ]
  },
  {
   "cell_type": "code",
   "execution_count": null,
   "id": "364e3fbf-768d-4212-8308-5ce6b55e932c",
   "metadata": {},
   "outputs": [],
   "source": []
  },
  {
   "cell_type": "raw",
   "id": "340e0509-6f14-4758-9810-b407901d1a63",
   "metadata": {},
   "source": [
    "df.head()"
   ]
  },
  {
   "cell_type": "code",
   "execution_count": 10,
   "id": "0d685c71-7878-494e-8f21-ab6eadf38220",
   "metadata": {},
   "outputs": [
    {
     "data": {
      "text/html": [
       "<div>\n",
       "<style scoped>\n",
       "    .dataframe tbody tr th:only-of-type {\n",
       "        vertical-align: middle;\n",
       "    }\n",
       "\n",
       "    .dataframe tbody tr th {\n",
       "        vertical-align: top;\n",
       "    }\n",
       "\n",
       "    .dataframe thead th {\n",
       "        text-align: right;\n",
       "    }\n",
       "</style>\n",
       "<table border=\"1\" class=\"dataframe\">\n",
       "  <thead>\n",
       "    <tr style=\"text-align: right;\">\n",
       "      <th></th>\n",
       "      <th>order_id</th>\n",
       "      <th>user_id</th>\n",
       "      <th>order_number</th>\n",
       "      <th>orders_day_of_the_week</th>\n",
       "      <th>order_hour_of_day</th>\n",
       "      <th>days_since_prior_order</th>\n",
       "      <th>product_id</th>\n",
       "      <th>add_to_cart_order</th>\n",
       "      <th>reordered</th>\n",
       "      <th>product_name</th>\n",
       "      <th>aisle_id</th>\n",
       "      <th>department_id</th>\n",
       "      <th>prices</th>\n",
       "      <th>_merge</th>\n",
       "    </tr>\n",
       "  </thead>\n",
       "  <tbody>\n",
       "    <tr>\n",
       "      <th>999995</th>\n",
       "      <td>2789027</td>\n",
       "      <td>6474</td>\n",
       "      <td>2</td>\n",
       "      <td>3</td>\n",
       "      <td>8</td>\n",
       "      <td>30.0</td>\n",
       "      <td>3020</td>\n",
       "      <td>7</td>\n",
       "      <td>0</td>\n",
       "      <td>Broccoli &amp; Apple Stage 2 Baby Food</td>\n",
       "      <td>92</td>\n",
       "      <td>18</td>\n",
       "      <td>12.9</td>\n",
       "      <td>both</td>\n",
       "    </tr>\n",
       "    <tr>\n",
       "      <th>999996</th>\n",
       "      <td>2789027</td>\n",
       "      <td>6474</td>\n",
       "      <td>2</td>\n",
       "      <td>3</td>\n",
       "      <td>8</td>\n",
       "      <td>30.0</td>\n",
       "      <td>35823</td>\n",
       "      <td>8</td>\n",
       "      <td>0</td>\n",
       "      <td>Complete Foaming Antibacterial Hand Soap Varie...</td>\n",
       "      <td>127</td>\n",
       "      <td>11</td>\n",
       "      <td>7.3</td>\n",
       "      <td>both</td>\n",
       "    </tr>\n",
       "    <tr>\n",
       "      <th>999997</th>\n",
       "      <td>2789027</td>\n",
       "      <td>6474</td>\n",
       "      <td>2</td>\n",
       "      <td>3</td>\n",
       "      <td>8</td>\n",
       "      <td>30.0</td>\n",
       "      <td>27681</td>\n",
       "      <td>9</td>\n",
       "      <td>0</td>\n",
       "      <td>Lower Sugar Instant Oatmeal  Variety</td>\n",
       "      <td>130</td>\n",
       "      <td>14</td>\n",
       "      <td>3.5</td>\n",
       "      <td>both</td>\n",
       "    </tr>\n",
       "    <tr>\n",
       "      <th>999998</th>\n",
       "      <td>2789027</td>\n",
       "      <td>6474</td>\n",
       "      <td>2</td>\n",
       "      <td>3</td>\n",
       "      <td>8</td>\n",
       "      <td>30.0</td>\n",
       "      <td>2091</td>\n",
       "      <td>10</td>\n",
       "      <td>0</td>\n",
       "      <td>Almond Nut &amp; Rice Cracker Snacks</td>\n",
       "      <td>78</td>\n",
       "      <td>19</td>\n",
       "      <td>6.8</td>\n",
       "      <td>both</td>\n",
       "    </tr>\n",
       "    <tr>\n",
       "      <th>999999</th>\n",
       "      <td>2789027</td>\n",
       "      <td>6474</td>\n",
       "      <td>2</td>\n",
       "      <td>3</td>\n",
       "      <td>8</td>\n",
       "      <td>30.0</td>\n",
       "      <td>44199</td>\n",
       "      <td>11</td>\n",
       "      <td>0</td>\n",
       "      <td>Toll House Mini Chocolate Chip Cookie Dough</td>\n",
       "      <td>105</td>\n",
       "      <td>13</td>\n",
       "      <td>2.9</td>\n",
       "      <td>both</td>\n",
       "    </tr>\n",
       "  </tbody>\n",
       "</table>\n",
       "</div>"
      ],
      "text/plain": [
       "        order_id  user_id  order_number  orders_day_of_the_week  \\\n",
       "999995   2789027     6474             2                       3   \n",
       "999996   2789027     6474             2                       3   \n",
       "999997   2789027     6474             2                       3   \n",
       "999998   2789027     6474             2                       3   \n",
       "999999   2789027     6474             2                       3   \n",
       "\n",
       "        order_hour_of_day  days_since_prior_order  product_id  \\\n",
       "999995                  8                    30.0        3020   \n",
       "999996                  8                    30.0       35823   \n",
       "999997                  8                    30.0       27681   \n",
       "999998                  8                    30.0        2091   \n",
       "999999                  8                    30.0       44199   \n",
       "\n",
       "        add_to_cart_order  reordered  \\\n",
       "999995                  7          0   \n",
       "999996                  8          0   \n",
       "999997                  9          0   \n",
       "999998                 10          0   \n",
       "999999                 11          0   \n",
       "\n",
       "                                             product_name  aisle_id  \\\n",
       "999995                 Broccoli & Apple Stage 2 Baby Food        92   \n",
       "999996  Complete Foaming Antibacterial Hand Soap Varie...       127   \n",
       "999997               Lower Sugar Instant Oatmeal  Variety       130   \n",
       "999998                   Almond Nut & Rice Cracker Snacks        78   \n",
       "999999        Toll House Mini Chocolate Chip Cookie Dough       105   \n",
       "\n",
       "        department_id  prices _merge  \n",
       "999995             18    12.9   both  \n",
       "999996             11     7.3   both  \n",
       "999997             14     3.5   both  \n",
       "999998             19     6.8   both  \n",
       "999999             13     2.9   both  "
      ]
     },
     "execution_count": 10,
     "metadata": {},
     "output_type": "execute_result"
    }
   ],
   "source": [
    "df.tail()"
   ]
  },
  {
   "cell_type": "code",
   "execution_count": 11,
   "id": "fe4a2f94-9d1e-4bab-8d6a-0b7cf0e06bf6",
   "metadata": {},
   "outputs": [
    {
     "name": "stderr",
     "output_type": "stream",
     "text": [
      "/var/folders/_t/l5t5ly6n7sng4v9pk5llghjh0000gn/T/ipykernel_84695/223148287.py:2: SettingWithCopyWarning: \n",
      "A value is trying to be set on a copy of a slice from a DataFrame.\n",
      "Try using .loc[row_indexer,col_indexer] = value instead\n",
      "\n",
      "See the caveats in the documentation: https://pandas.pydata.org/pandas-docs/stable/user_guide/indexing.html#returning-a-view-versus-a-copy\n",
      "  df['price_range'] = df.apply(price_label, axis=1)\n"
     ]
    }
   ],
   "source": [
    "#Apply new function\n",
    "df['price_range'] = df.apply(price_label, axis=1)"
   ]
  },
  {
   "cell_type": "markdown",
   "id": "aaa001cd-b180-4fd7-bb39-1a6ecba6b72d",
   "metadata": {},
   "source": [
    "Above function explained:\n",
    "- \"df['price_range'] creates new column iwthin dataframe\n",
    "- On the right side of the equals sign comes the code that runs your new function: df.apply(price_label, axis=1), which tells Python to apply the price_label function on axis=1. This axis = 1 stands for “rows,” so this code essentially tells Python to apply the function to all rows within the dataframe. Conversely, axis = 0 would refer to all columns within the dataframe."
   ]
  },
  {
   "cell_type": "code",
   "execution_count": 12,
   "id": "10fc027e-6682-4fab-9bb7-02255ba18806",
   "metadata": {},
   "outputs": [
    {
     "data": {
      "text/plain": [
       "price_range\n",
       "Mid-range product    673183\n",
       "Low-range product    314392\n",
       "High range            12425\n",
       "Name: count, dtype: int64"
      ]
     },
     "execution_count": 12,
     "metadata": {},
     "output_type": "execute_result"
    }
   ],
   "source": [
    "#Shows breakdown of new columns values\n",
    "df['price_range'].value_counts(dropna = False)"
   ]
  },
  {
   "cell_type": "code",
   "execution_count": 13,
   "id": "f52d4496-b469-4ea1-87d4-d1f74ed3670a",
   "metadata": {},
   "outputs": [
    {
     "data": {
      "text/plain": [
       "99999.0"
      ]
     },
     "execution_count": 13,
     "metadata": {},
     "output_type": "execute_result"
    }
   ],
   "source": [
    "#Max price\n",
    "df['prices'].max()"
   ]
  },
  {
   "cell_type": "markdown",
   "id": "14193ec5-d9de-49b3-912b-a2b52360a434",
   "metadata": {},
   "source": [
    "### Getting different values for each range in subset dataframe than exercise 4.7 example"
   ]
  },
  {
   "cell_type": "markdown",
   "id": "175ae18e-ded1-45e8-9031-8527b74be685",
   "metadata": {},
   "source": [
    "## _"
   ]
  },
  {
   "cell_type": "markdown",
   "id": "623796f2-046b-4323-be35-253e9ad37c17",
   "metadata": {},
   "source": [
    "## If-Statements with loc() Function"
   ]
  },
  {
   "cell_type": "code",
   "execution_count": 14,
   "id": "402e1d53-2a7b-4bcd-842c-c4c2907beb7b",
   "metadata": {},
   "outputs": [
    {
     "name": "stderr",
     "output_type": "stream",
     "text": [
      "/var/folders/_t/l5t5ly6n7sng4v9pk5llghjh0000gn/T/ipykernel_84695/2555204669.py:1: SettingWithCopyWarning: \n",
      "A value is trying to be set on a copy of a slice from a DataFrame.\n",
      "Try using .loc[row_indexer,col_indexer] = value instead\n",
      "\n",
      "See the caveats in the documentation: https://pandas.pydata.org/pandas-docs/stable/user_guide/indexing.html#returning-a-view-versus-a-copy\n",
      "  df.loc[df['prices'] > 15, 'price_range_loc'] = 'High range product'\n"
     ]
    }
   ],
   "source": [
    "df.loc[df['prices'] > 15, 'price_range_loc'] = 'High range product'"
   ]
  },
  {
   "cell_type": "code",
   "execution_count": 15,
   "id": "267adfbf-e1eb-40f6-8f84-ee98cd4995fd",
   "metadata": {},
   "outputs": [],
   "source": [
    "df.loc[(df['prices'] <= 15) & (df['prices'] > 5), 'price_range_loc'] = 'Mid range product'"
   ]
  },
  {
   "cell_type": "code",
   "execution_count": 16,
   "id": "09c234f0-f0ca-4279-b35c-fce1bd50c77c",
   "metadata": {},
   "outputs": [],
   "source": [
    "df.loc[df['prices'] <= 5, 'price_range_loc'] = 'Low range product'"
   ]
  },
  {
   "cell_type": "code",
   "execution_count": 17,
   "id": "de77cb55-aa35-4b12-913b-4e8eac1a2f61",
   "metadata": {},
   "outputs": [
    {
     "data": {
      "text/plain": [
       "price_range_loc\n",
       "Mid range product     673183\n",
       "Low range product     314392\n",
       "High range product     12425\n",
       "Name: count, dtype: int64"
      ]
     },
     "execution_count": 17,
     "metadata": {},
     "output_type": "execute_result"
    }
   ],
   "source": [
    "df['price_range_loc'].value_counts(dropna = False)"
   ]
  },
  {
   "cell_type": "markdown",
   "id": "f4088d9a-30f1-4b33-a015-730991e67e24",
   "metadata": {},
   "source": [
    "Similar to the first if-then statements, but slightyle different\n",
    "- The two implied halves of the if-statement, then, would be:\n",
    "    - if = df.loc[df['prices'] > 15,\n",
    "    - then = 'price_range_loc'] = 'High-range product'\n",
    "- Remember—the comma is key! It’s what separates the “if” from the “then.”"
   ]
  },
  {
   "cell_type": "markdown",
   "id": "bd79eef6-3844-4ef7-a020-19a4caf7622b",
   "metadata": {},
   "source": [
    "loc() function works faster, as it applies the filter before searching the dataframe"
   ]
  },
  {
   "cell_type": "markdown",
   "id": "aca51c7f-dac8-46d4-bedb-592395058655",
   "metadata": {},
   "source": [
    "## -"
   ]
  },
  {
   "cell_type": "markdown",
   "id": "9ade7a87-1e30-4ffb-9f11-88a20fa40399",
   "metadata": {},
   "source": [
    "Try loc() function on the whole dataframe instead of subset"
   ]
  },
  {
   "cell_type": "code",
   "execution_count": 18,
   "id": "95ac6e51-c6c6-4895-b443-f85a8f7ad9e8",
   "metadata": {},
   "outputs": [],
   "source": [
    "ords_prods_merge.loc[ords_prods_merge['prices'] > 15, 'price_range_loc'] = 'High range product'"
   ]
  },
  {
   "cell_type": "code",
   "execution_count": 19,
   "id": "a70a53c9-9118-47bf-8537-ba24c3c1b669",
   "metadata": {},
   "outputs": [],
   "source": [
    "ords_prods_merge.loc[(ords_prods_merge['prices'] <= 15) & (ords_prods_merge['prices'] > 5), 'price_range_loc'] = 'Mid range product'"
   ]
  },
  {
   "cell_type": "code",
   "execution_count": 20,
   "id": "8421e5ec-9776-43bb-b1e8-711b1eb9ed57",
   "metadata": {},
   "outputs": [],
   "source": [
    "ords_prods_merge.loc[ords_prods_merge['prices'] <= 5, 'price_range_loc'] = 'Low range product'"
   ]
  },
  {
   "cell_type": "code",
   "execution_count": 21,
   "id": "9299d2f9-a075-4835-8e45-f92468177986",
   "metadata": {},
   "outputs": [
    {
     "data": {
      "text/plain": [
       "price_range_loc\n",
       "Mid range product     21860860\n",
       "Low range product     10126321\n",
       "High range product      417678\n",
       "Name: count, dtype: int64"
      ]
     },
     "execution_count": 21,
     "metadata": {},
     "output_type": "execute_result"
    }
   ],
   "source": [
    "ords_prods_merge['price_range_loc'].value_counts(dropna = False)"
   ]
  },
  {
   "cell_type": "markdown",
   "id": "eb25a534-a5fd-46b6-bd1a-aec5fbea171f",
   "metadata": {},
   "source": [
    "## -"
   ]
  },
  {
   "cell_type": "markdown",
   "id": "1823680b-2470-4758-9df3-db3ce99bb3a4",
   "metadata": {},
   "source": [
    "## If-Statements with For-Loops"
   ]
  },
  {
   "cell_type": "markdown",
   "id": "ffee15b1-4691-42ee-99c2-0d7e8da533a3",
   "metadata": {},
   "source": [
    "\"My Age is X\" example, for ages 30-45"
   ]
  },
  {
   "cell_type": "code",
   "execution_count": 22,
   "id": "20a8c6ed-aac0-4bbd-878a-f406050c62d4",
   "metadata": {},
   "outputs": [
    {
     "name": "stdout",
     "output_type": "stream",
     "text": [
      "My age is 30\n"
     ]
    }
   ],
   "source": [
    "print('My age is 30')"
   ]
  },
  {
   "cell_type": "code",
   "execution_count": 23,
   "id": "1b7adaf6-6382-4fb5-9971-613fb851f0c4",
   "metadata": {},
   "outputs": [
    {
     "name": "stdout",
     "output_type": "stream",
     "text": [
      "My age is 31\n"
     ]
    }
   ],
   "source": [
    "print('My age is 31')"
   ]
  },
  {
   "cell_type": "code",
   "execution_count": 24,
   "id": "3ae9d91e-d6d3-455c-956d-21f4bda757b6",
   "metadata": {},
   "outputs": [
    {
     "name": "stdout",
     "output_type": "stream",
     "text": [
      "My age is 32\n"
     ]
    }
   ],
   "source": [
    "print('My age is 32')"
   ]
  },
  {
   "cell_type": "code",
   "execution_count": 25,
   "id": "6b62325d-7be4-4ddc-992e-28f2647f5b06",
   "metadata": {},
   "outputs": [
    {
     "name": "stdout",
     "output_type": "stream",
     "text": [
      "My age is 33\n"
     ]
    }
   ],
   "source": [
    "print('My age is 33')"
   ]
  },
  {
   "cell_type": "markdown",
   "id": "42b85075-5cae-4254-b828-2343f0b905fb",
   "metadata": {},
   "source": [
    "Now do a \"for-loop\" to save time:"
   ]
  },
  {
   "cell_type": "code",
   "execution_count": 26,
   "id": "7dab5f69-f949-41fa-8521-5715ded043e7",
   "metadata": {},
   "outputs": [
    {
     "name": "stdout",
     "output_type": "stream",
     "text": [
      "My age is 30\n",
      "My age is 31\n",
      "My age is 32\n",
      "My age is 33\n",
      "My age is 34\n",
      "My age is 35\n",
      "My age is 36\n",
      "My age is 37\n",
      "My age is 38\n",
      "My age is 39\n",
      "My age is 40\n",
      "My age is 41\n",
      "My age is 42\n",
      "My age is 43\n",
      "My age is 44\n"
     ]
    }
   ],
   "source": [
    "for x in range(30,45):\n",
    "    print('My age is %d' %(x))"
   ]
  },
  {
   "cell_type": "markdown",
   "id": "9c53b00b-a35b-4825-b356-92d9bac5bebe",
   "metadata": {},
   "source": [
    "#### *What is the \"%d\" portion of the for-loop?*"
   ]
  },
  {
   "cell_type": "markdown",
   "id": "0e33b1df-9d62-4b57-b838-3fd2da464aa1",
   "metadata": {},
   "source": [
    "## -"
   ]
  },
  {
   "cell_type": "markdown",
   "id": "2203e9a5-8bab-44fd-ba76-0f4a730316e1",
   "metadata": {},
   "source": [
    "For-loop example in ords_prods_merge dataframe\n",
    "- Find busiest and slowest days based on \"days_of_the_week\""
   ]
  },
  {
   "cell_type": "code",
   "execution_count": 27,
   "id": "90a61bbc-023b-4fc9-abc2-87e3f77300d1",
   "metadata": {},
   "outputs": [
    {
     "data": {
      "text/plain": [
       "orders_day_of_the_week\n",
       "0    6204182\n",
       "1    5660230\n",
       "6    4496490\n",
       "2    4213830\n",
       "5    4205791\n",
       "3    3840534\n",
       "4    3783802\n",
       "Name: count, dtype: int64"
      ]
     },
     "execution_count": 27,
     "metadata": {},
     "output_type": "execute_result"
    }
   ],
   "source": [
    "ords_prods_merge['orders_day_of_the_week'].value_counts(dropna = False)"
   ]
  },
  {
   "cell_type": "markdown",
   "id": "b6bf256c-e8b7-413c-bd27-fae5e4b00da2",
   "metadata": {},
   "source": [
    "- 0 shows the busiest day, Saturday\n",
    "- 4 shows the least busy day, Wednesday"
   ]
  },
  {
   "cell_type": "code",
   "execution_count": 28,
   "id": "887bf9b1-d4bf-4f19-a49d-838f060c6010",
   "metadata": {},
   "outputs": [],
   "source": [
    "#For-loop code for day of the week\n",
    "result = []\n",
    "for value in ords_prods_merge['orders_day_of_the_week']:\n",
    "    if value == 0:\n",
    "        result.append('Busiest day')\n",
    "    elif value == 4:\n",
    "        result.append('Least busy')\n",
    "    else:\n",
    "        result.append('Regularly busy')"
   ]
  },
  {
   "cell_type": "markdown",
   "id": "6bfa4379-d9fa-411c-882c-0f6deba7f310",
   "metadata": {},
   "source": [
    "The first step is to create an empty list, result. This will act as the empty shell, into which you can place the results from your loop. Then comes the loop itself. Here, you’re telling Python that for each value within the “orders_day_of_week” column, you want to do something. That something comes below it, where you’ll see a familiar if-else structure. If the value in that row is equal to 0, a “Busiest day” string value is appended to your currently blank result list. If the value is equal to 4, a “Least busy” string value is appended to the result list. If neither of these conditions has been met (the value is neither 0 nor 4), then a “Regularly busy” string value is appended to the result list."
   ]
  },
  {
   "cell_type": "code",
   "execution_count": null,
   "id": "7f8f0055-33b8-46f8-b782-262fdf39d1a8",
   "metadata": {},
   "outputs": [],
   "source": [
    "#New column that shows the results\n",
    "result"
   ]
  },
  {
   "cell_type": "code",
   "execution_count": 30,
   "id": "e07b53fc-0f21-4f04-ad7e-24fef3341f69",
   "metadata": {},
   "outputs": [],
   "source": [
    "#Created new \"busiest_column\" and equal it to the \"result\" list we created\n",
    "ords_prods_merge['busiest_day'] = result"
   ]
  },
  {
   "cell_type": "code",
   "execution_count": 31,
   "id": "d2eb028d-a7a7-4440-9ab5-be8315ab458b",
   "metadata": {},
   "outputs": [
    {
     "data": {
      "text/plain": [
       "busiest_day\n",
       "Regularly busy    22416875\n",
       "Busiest day        6204182\n",
       "Least busy         3783802\n",
       "Name: count, dtype: int64"
      ]
     },
     "execution_count": 31,
     "metadata": {},
     "output_type": "execute_result"
    }
   ],
   "source": [
    "#Show results of new column\n",
    "ords_prods_merge['busiest_day'].value_counts(dropna = False)"
   ]
  },
  {
   "cell_type": "markdown",
   "id": "7080c60f-d509-4201-a74e-9240231cd40f",
   "metadata": {},
   "source": [
    "## -"
   ]
  },
  {
   "cell_type": "markdown",
   "id": "d8f7ed2f-1905-4640-a5f6-92179c7f6123",
   "metadata": {},
   "source": [
    "## Exercise 4.7 Tasks"
   ]
  },
  {
   "cell_type": "markdown",
   "id": "16a312ac-5af9-487f-af15-3bc9ffee49b6",
   "metadata": {},
   "source": [
    "2. Suppose your clients have changed their minds about the labels you created in your “busiest_day” column. Now, they want “Busiest day” to become “Busiest days” (plural). This label should correspond with the two busiest days of the week as opposed to the single busiest day. At the same time, they’d also like to know the two slowest days. Create a new column for this using a suitable method."
   ]
  },
  {
   "cell_type": "code",
   "execution_count": 34,
   "id": "8542f892-d33c-48a9-ba34-b8cc4795a185",
   "metadata": {},
   "outputs": [
    {
     "data": {
      "text/plain": [
       "orders_day_of_the_week\n",
       "0    6204182\n",
       "1    5660230\n",
       "6    4496490\n",
       "2    4213830\n",
       "5    4205791\n",
       "3    3840534\n",
       "4    3783802\n",
       "Name: count, dtype: int64"
      ]
     },
     "execution_count": 34,
     "metadata": {},
     "output_type": "execute_result"
    }
   ],
   "source": [
    "#Check days of the week\n",
    "ords_prods_merge['orders_day_of_the_week'].value_counts(dropna = False)"
   ]
  },
  {
   "cell_type": "markdown",
   "id": "ad58e01b-4153-453a-b26a-f6fa849fa765",
   "metadata": {},
   "source": [
    "- 0 and 1 are the \"busiest days\"\n",
    "- 3 and 4 are the \"slowest days\"\n",
    "- Everything else is \"regularly busy\""
   ]
  },
  {
   "cell_type": "code",
   "execution_count": 64,
   "id": "4d0b7ff9-94cb-4f81-b09b-e964a6f84a56",
   "metadata": {},
   "outputs": [],
   "source": [
    "#New for-loop for busiest and slowest days\n",
    "result_new = []\n",
    "for value in ords_prods_merge['orders_day_of_the_week']:\n",
    "    if value in (0,1):\n",
    "        result_new.append('Busiest days')\n",
    "    elif value in (4,3):\n",
    "        result_new.append('Slowest days')\n",
    "    else:\n",
    "        result_new.append('Regular days')"
   ]
  },
  {
   "cell_type": "code",
   "execution_count": null,
   "id": "fbd07a1a-407e-440d-aee9-d5d7407e4704",
   "metadata": {},
   "outputs": [],
   "source": [
    "#Check new result column\n",
    "result_new"
   ]
  },
  {
   "cell_type": "markdown",
   "id": "9e8e4632-47d0-41eb-8260-e3a28d8cf9d5",
   "metadata": {},
   "source": [
    "3. Check the values of this new column for accuracy. Note any observations in markdown format."
   ]
  },
  {
   "cell_type": "code",
   "execution_count": 66,
   "id": "c7dc7888-e5cf-47e3-83d8-ee9c97e7e358",
   "metadata": {},
   "outputs": [],
   "source": [
    "#Create new results column\n",
    "ords_prods_merge['busiest_days'] = result_new"
   ]
  },
  {
   "cell_type": "code",
   "execution_count": 67,
   "id": "e49d2bc0-3672-49c7-a785-7e49297ce95f",
   "metadata": {},
   "outputs": [
    {
     "data": {
      "text/plain": [
       "busiest_days\n",
       "Regular days    12916111\n",
       "Busiest days    11864412\n",
       "Slowest days     7624336\n",
       "Name: count, dtype: int64"
      ]
     },
     "execution_count": 67,
     "metadata": {},
     "output_type": "execute_result"
    }
   ],
   "source": [
    "#Check new column values\n",
    "ords_prods_merge['busiest_days'].value_counts(dropna = False)"
   ]
  },
  {
   "cell_type": "markdown",
   "id": "b66204fe-09b0-4456-9a1f-c941433a44d7",
   "metadata": {},
   "source": [
    "4. When too many users make Instacart orders at the same time, the app freezes. The senior technical officer at Instacart wants you to identify the busiest hours of the day. Rather than by hour, they want periods of time labeled “Most orders,” “Average orders,” and “Fewest orders.” Create a new column containing these labels called “busiest_period_of_day.”"
   ]
  },
  {
   "cell_type": "code",
   "execution_count": 63,
   "id": "3ed76eaa-7fc8-4e43-83c5-9d44055e2b28",
   "metadata": {},
   "outputs": [
    {
     "data": {
      "text/plain": [
       "order_hour_of_day\n",
       "10    2761760\n",
       "11    2736140\n",
       "14    2689136\n",
       "15    2662144\n",
       "13    2660954\n",
       "12    2618532\n",
       "16    2535202\n",
       "9     2454203\n",
       "17    2087654\n",
       "8     1718118\n",
       "18    1636502\n",
       "19    1258305\n",
       "20     976156\n",
       "7      891054\n",
       "21     795637\n",
       "22     634225\n",
       "23     402316\n",
       "6      290493\n",
       "0      218769\n",
       "1      115700\n",
       "5       87961\n",
       "2       69375\n",
       "4       53242\n",
       "3       51281\n",
       "Name: count, dtype: int64"
      ]
     },
     "execution_count": 63,
     "metadata": {},
     "output_type": "execute_result"
    }
   ],
   "source": [
    "#Check for the order hour results\n",
    "ords_prods_merge['order_hour_of_day'].value_counts(dropna = False)"
   ]
  },
  {
   "cell_type": "markdown",
   "id": "666996be-af72-49cb-86c7-b45ca09f75b6",
   "metadata": {},
   "source": [
    "- Busiest hours: 10,11,14,15,13,12,16,9\n",
    "- Slowest hours: 3,4,2,5,1,0,6,23\n",
    "- Averge hours: 22,21,7,20,19,18,8,17"
   ]
  },
  {
   "cell_type": "code",
   "execution_count": 81,
   "id": "3b296fda-fe9f-42ca-8418-0141943326ec",
   "metadata": {},
   "outputs": [],
   "source": [
    "#New loop for busiest and slowest hours\n",
    "results_hours = []\n",
    "\n",
    "for value in ords_prods_merge['order_hour_of_day']:\n",
    "    if value in (10,11,14,15,13,12,16,9):\n",
    "        results_hours.append('Busiest hours')\n",
    "    elif value in (3,4,2,5,1,0,6,23):\n",
    "        results_hours.append('Slowest hours')\n",
    "    elif value in (22,21,7,20,19,18,8,17):\n",
    "        results_hours.append('Average hours')"
   ]
  },
  {
   "cell_type": "code",
   "execution_count": null,
   "id": "a13af7be-cbc6-4d6e-952e-781238602a66",
   "metadata": {},
   "outputs": [],
   "source": [
    "#Show results of hours\n",
    "results_hours"
   ]
  },
  {
   "cell_type": "code",
   "execution_count": 83,
   "id": "ee26dabe-a495-4ffa-a27d-cdfbe7afd28b",
   "metadata": {},
   "outputs": [],
   "source": [
    "#Creating new busiest hours column using new reults hours column\n",
    "ords_prods_merge['busiest_period_of_day'] = results_hours"
   ]
  },
  {
   "cell_type": "markdown",
   "id": "43263975-9c0e-4995-886b-668ac8d0a9ad",
   "metadata": {},
   "source": [
    "6. Print the frequency for this new column"
   ]
  },
  {
   "cell_type": "code",
   "execution_count": 85,
   "id": "b8cc641c-7f7f-4a8d-ab01-1a94fd323cd7",
   "metadata": {},
   "outputs": [
    {
     "data": {
      "text/plain": [
       "busiest_period_of_day\n",
       "Busiest hours    21118071\n",
       "Average hours     9997651\n",
       "Slowest hours     1289137\n",
       "Name: count, dtype: int64"
      ]
     },
     "execution_count": 85,
     "metadata": {},
     "output_type": "execute_result"
    }
   ],
   "source": [
    "#Show count results of new and completed column\n",
    "ords_prods_merge['busiest_period_of_day'].value_counts(dropna = False)"
   ]
  },
  {
   "cell_type": "markdown",
   "id": "552daf2a-cc93-476b-8afc-bd3f00d15971",
   "metadata": {},
   "source": [
    "7. Export dataframe as pickle file"
   ]
  },
  {
   "cell_type": "code",
   "execution_count": 87,
   "id": "1c67b58a-43ad-4251-8407-d89448fdd742",
   "metadata": {},
   "outputs": [],
   "source": [
    "#Export as PKL file\n",
    "ords_prods_merge.to_pickle(os.path.join(path, '02 Data', 'Prepared Data', 'ords_prods_merge_new.pkl'))"
   ]
  }
 ],
 "metadata": {
  "kernelspec": {
   "display_name": "Python [conda env:base] *",
   "language": "python",
   "name": "conda-base-py"
  },
  "language_info": {
   "codemirror_mode": {
    "name": "ipython",
    "version": 3
   },
   "file_extension": ".py",
   "mimetype": "text/x-python",
   "name": "python",
   "nbconvert_exporter": "python",
   "pygments_lexer": "ipython3",
   "version": "3.13.5"
  }
 },
 "nbformat": 4,
 "nbformat_minor": 5
}
