{
 "cells": [
  {
   "cell_type": "markdown",
   "id": "d8c0c2e4-6cbd-46bd-b448-e5714ba60fb7",
   "metadata": {},
   "source": [
    "## 4.9 - Intro to Data Visualization with Python"
   ]
  },
  {
   "cell_type": "markdown",
   "id": "e6303711-9fd2-4c56-8a14-de43a7fabcfb",
   "metadata": {},
   "source": [
    "- Create basic visualizations with Python\n",
    "- Create representative data samples to avoid memory when executing code"
   ]
  },
  {
   "cell_type": "markdown",
   "id": "85607d5d-8447-4d68-b2da-6aaacd5344df",
   "metadata": {},
   "source": [
    "## Importing Libraries (New visualization libraries)"
   ]
  },
  {
   "cell_type": "code",
   "execution_count": 1,
   "id": "f735ce12-3e20-4118-8e77-8c87a3074833",
   "metadata": {},
   "outputs": [],
   "source": [
    "#Import Libraries\n",
    "import pandas as pd\n",
    "import numpy as np\n",
    "import os\n",
    "import matplotlib.pyplot as plt\n",
    "import seaborn as sns\n",
    "import scipy"
   ]
  },
  {
   "cell_type": "code",
   "execution_count": 2,
   "id": "275df2a3-d599-42f0-9571-d4799f70dad8",
   "metadata": {},
   "outputs": [],
   "source": [
    "#Create path shortcut\n",
    "path = r'/Users/puneet/Desktop/Instacart Basket Analysis 08-2025'"
   ]
  },
  {
   "cell_type": "code",
   "execution_count": 4,
   "id": "111cf936-c3d9-4750-ba0f-1d0eceb0bab3",
   "metadata": {},
   "outputs": [],
   "source": [
    "#Insert dataset\n",
    "ords_prods_merge = pd.read_pickle(os.path.join(path, '02 Data', 'Prepared Data', 'ords_prods_merge_E48.pkl'))"
   ]
  },
  {
   "cell_type": "code",
   "execution_count": 5,
   "id": "0f8a5477-0e96-4731-ae0a-baaf544d12b2",
   "metadata": {},
   "outputs": [
    {
     "data": {
      "text/html": [
       "<div>\n",
       "<style scoped>\n",
       "    .dataframe tbody tr th:only-of-type {\n",
       "        vertical-align: middle;\n",
       "    }\n",
       "\n",
       "    .dataframe tbody tr th {\n",
       "        vertical-align: top;\n",
       "    }\n",
       "\n",
       "    .dataframe thead th {\n",
       "        text-align: right;\n",
       "    }\n",
       "</style>\n",
       "<table border=\"1\" class=\"dataframe\">\n",
       "  <thead>\n",
       "    <tr style=\"text-align: right;\">\n",
       "      <th></th>\n",
       "      <th>order_id</th>\n",
       "      <th>user_id</th>\n",
       "      <th>order_number</th>\n",
       "      <th>orders_day_of_the_week</th>\n",
       "      <th>order_hour_of_day</th>\n",
       "      <th>days_since_prior_order</th>\n",
       "      <th>product_id</th>\n",
       "      <th>add_to_cart_order</th>\n",
       "      <th>reordered</th>\n",
       "      <th>product_name</th>\n",
       "      <th>...</th>\n",
       "      <th>price_range_loc</th>\n",
       "      <th>busiest_day</th>\n",
       "      <th>busiest_days</th>\n",
       "      <th>busiest_period_of_day</th>\n",
       "      <th>max_order</th>\n",
       "      <th>loyalty_flag</th>\n",
       "      <th>spending_flag</th>\n",
       "      <th>spender_type</th>\n",
       "      <th>median_flag</th>\n",
       "      <th>customer_frequency</th>\n",
       "    </tr>\n",
       "  </thead>\n",
       "  <tbody>\n",
       "    <tr>\n",
       "      <th>0</th>\n",
       "      <td>2539329</td>\n",
       "      <td>1</td>\n",
       "      <td>1</td>\n",
       "      <td>2</td>\n",
       "      <td>8</td>\n",
       "      <td>NaN</td>\n",
       "      <td>196</td>\n",
       "      <td>1</td>\n",
       "      <td>0</td>\n",
       "      <td>Soda</td>\n",
       "      <td>...</td>\n",
       "      <td>Mid range product</td>\n",
       "      <td>Regularly busy</td>\n",
       "      <td>Regular days</td>\n",
       "      <td>Average hours</td>\n",
       "      <td>10</td>\n",
       "      <td>New customer</td>\n",
       "      <td>6.367797</td>\n",
       "      <td>Low spender</td>\n",
       "      <td>20.5</td>\n",
       "      <td>Non-frequent customer</td>\n",
       "    </tr>\n",
       "    <tr>\n",
       "      <th>1</th>\n",
       "      <td>2539329</td>\n",
       "      <td>1</td>\n",
       "      <td>1</td>\n",
       "      <td>2</td>\n",
       "      <td>8</td>\n",
       "      <td>NaN</td>\n",
       "      <td>14084</td>\n",
       "      <td>2</td>\n",
       "      <td>0</td>\n",
       "      <td>Organic Unsweetened Vanilla Almond Milk</td>\n",
       "      <td>...</td>\n",
       "      <td>Mid range product</td>\n",
       "      <td>Regularly busy</td>\n",
       "      <td>Regular days</td>\n",
       "      <td>Average hours</td>\n",
       "      <td>10</td>\n",
       "      <td>New customer</td>\n",
       "      <td>6.367797</td>\n",
       "      <td>Low spender</td>\n",
       "      <td>20.5</td>\n",
       "      <td>Non-frequent customer</td>\n",
       "    </tr>\n",
       "  </tbody>\n",
       "</table>\n",
       "<p>2 rows × 24 columns</p>\n",
       "</div>"
      ],
      "text/plain": [
       "   order_id  user_id  order_number  orders_day_of_the_week  order_hour_of_day  \\\n",
       "0   2539329        1             1                       2                  8   \n",
       "1   2539329        1             1                       2                  8   \n",
       "\n",
       "   days_since_prior_order  product_id  add_to_cart_order  reordered  \\\n",
       "0                     NaN         196                  1          0   \n",
       "1                     NaN       14084                  2          0   \n",
       "\n",
       "                              product_name  ...    price_range_loc  \\\n",
       "0                                     Soda  ...  Mid range product   \n",
       "1  Organic Unsweetened Vanilla Almond Milk  ...  Mid range product   \n",
       "\n",
       "      busiest_day  busiest_days busiest_period_of_day max_order  loyalty_flag  \\\n",
       "0  Regularly busy  Regular days         Average hours        10  New customer   \n",
       "1  Regularly busy  Regular days         Average hours        10  New customer   \n",
       "\n",
       "  spending_flag spender_type  median_flag     customer_frequency  \n",
       "0      6.367797  Low spender         20.5  Non-frequent customer  \n",
       "1      6.367797  Low spender         20.5  Non-frequent customer  \n",
       "\n",
       "[2 rows x 24 columns]"
      ]
     },
     "execution_count": 5,
     "metadata": {},
     "output_type": "execute_result"
    }
   ],
   "source": [
    "#Test new dataframe\n",
    "ords_prods_merge.head(2)"
   ]
  },
  {
   "cell_type": "markdown",
   "id": "72c62a4f-c9cd-4aae-a70e-48edff9ec1aa",
   "metadata": {},
   "source": [
    "## -"
   ]
  },
  {
   "cell_type": "markdown",
   "id": "acfcbbd8-ca72-4d00-a234-bc3847e53cb7",
   "metadata": {},
   "source": [
    "## Creating Bar Charts"
   ]
  },
  {
   "cell_type": "markdown",
   "id": "fa359de6-c09d-4d1b-82e2-951d199488d1",
   "metadata": {},
   "source": [
    "Bar chart code:\n",
    "- df['column'].value_counts().plot.bar()"
   ]
  },
  {
   "cell_type": "code",
   "execution_count": 6,
   "id": "ccd78cda-53ea-4409-be7a-c9397400b7ab",
   "metadata": {},
   "outputs": [
    {
     "data": {
      "text/plain": [
       "<Axes: xlabel='orders_day_of_the_week'>"
      ]
     },
     "execution_count": 6,
     "metadata": {},
     "output_type": "execute_result"
    },
    {
     "data": {
      "image/png": "[encoded data removed]",
      "text/plain": [
       "<Figure size 640x480 with 1 Axes>"
      ]
     },
     "metadata": {},
     "output_type": "display_data"
    }
   ],
   "source": [
    "#Create bar chart\n",
    "ords_prods_merge['orders_day_of_the_week'].value_counts().plot.bar()"
   ]
  },
  {
   "cell_type": "markdown",
   "id": "138571df-2b6a-42cb-ab20-2d59779aa73a",
   "metadata": {},
   "source": [
    "Bar chart automatically sorted by smallest to largest values"
   ]
  },
  {
   "cell_type": "markdown",
   "id": "cae09f4c-88cf-468b-8abd-60fe34839fb3",
   "metadata": {},
   "source": [
    "*Sort by x-axis instead (index order)*"
   ]
  },
  {
   "cell_type": "code",
   "execution_count": 9,
   "id": "282ca60d-91b7-4842-bf38-146b81b1b97e",
   "metadata": {},
   "outputs": [
    {
     "data": {
      "image/png": "[encoded data removed]",
      "text/plain": [
       "<Figure size 640x480 with 1 Axes>"
      ]
     },
     "metadata": {},
     "output_type": "display_data"
    }
   ],
   "source": [
    "#Bar chart sorted by column index\n",
    "bar = ords_prods_merge['orders_day_of_the_week'].value_counts().sort_index().plot.bar()"
   ]
  },
  {
   "cell_type": "markdown",
   "id": "1ebdd9e5-4021-41e2-bfe6-b7b026d19258",
   "metadata": {},
   "source": [
    "Same thing can be done with lists, down below"
   ]
  },
  {
   "cell_type": "code",
   "execution_count": 10,
   "id": "d820c4fe-692e-424b-b731-be3aec166c1e",
   "metadata": {},
   "outputs": [
    {
     "data": {
      "text/plain": [
       "orders_day_of_the_week\n",
       "0    6204182\n",
       "1    5660230\n",
       "6    4496490\n",
       "2    4213830\n",
       "5    4205791\n",
       "3    3840534\n",
       "4    3783802\n",
       "Name: count, dtype: int64"
      ]
     },
     "execution_count": 10,
     "metadata": {},
     "output_type": "execute_result"
    }
   ],
   "source": [
    "#List of days of the weeks value frequency\n",
    "ords_prods_merge['orders_day_of_the_week'].value_counts()"
   ]
  },
  {
   "cell_type": "code",
   "execution_count": 11,
   "id": "fd62c694-8851-4469-a780-7cd9106e7299",
   "metadata": {},
   "outputs": [
    {
     "data": {
      "text/plain": [
       "orders_day_of_the_week\n",
       "0    6204182\n",
       "1    5660230\n",
       "2    4213830\n",
       "3    3840534\n",
       "4    3783802\n",
       "5    4205791\n",
       "6    4496490\n",
       "Name: count, dtype: int64"
      ]
     },
     "execution_count": 11,
     "metadata": {},
     "output_type": "execute_result"
    }
   ],
   "source": [
    "#List of days of the weeks value frequency, but by index, not largest to smallest\n",
    "ords_prods_merge['orders_day_of_the_week'].value_counts().sort_index()"
   ]
  },
  {
   "cell_type": "markdown",
   "id": "69f2686c-7a06-40f0-96fe-a07ed3826a7f",
   "metadata": {},
   "source": [
    "*You can add color to the chart as well*"
   ]
  },
  {
   "cell_type": "code",
   "execution_count": 15,
   "id": "70e9c4de-e8ce-42c1-9d84-025f52c23d22",
   "metadata": {},
   "outputs": [
    {
     "data": {
      "image/png": "[encoded data removed]",
      "text/plain": [
       "<Figure size 640x480 with 1 Axes>"
      ]
     },
     "metadata": {},
     "output_type": "display_data"
    }
   ],
   "source": [
    "#Adding color to bar chart\n",
    "bar = ords_prods_merge['orders_day_of_the_week'].value_counts().plot.bar(color = ['purple','red','pink','orange','yellow','green','blue'])"
   ]
  },
  {
   "cell_type": "markdown",
   "id": "79f686f2-78c5-4e8d-8bc9-a8dfa3f7b3b6",
   "metadata": {},
   "source": [
    "## -"
   ]
  },
  {
   "cell_type": "markdown",
   "id": "72c4c002-f3bd-4da7-bd29-1818b6193ec7",
   "metadata": {},
   "source": [
    "## Exporting Charts"
   ]
  },
  {
   "cell_type": "markdown",
   "id": "cc218b61-3a8f-4ac2-867c-cdd4539e8ca9",
   "metadata": {},
   "source": [
    "Exporting code is similar to that of csv and pkl files"
   ]
  },
  {
   "cell_type": "code",
   "execution_count": 18,
   "id": "c67f0561-be26-4732-a007-4e0f4dc205e8",
   "metadata": {},
   "outputs": [],
   "source": [
    "#Export \"bar\" created above\n",
    "bar.figure.savefig(os.path.join(path, '04 Analysis', 'Visualizations','bar_orders_dow.png'))"
   ]
  },
  {
   "cell_type": "markdown",
   "id": "f8cd39b6-a2fb-4410-8a03-cd5f40952548",
   "metadata": {},
   "source": [
    "## -"
   ]
  },
  {
   "cell_type": "markdown",
   "id": "34763a64-3f85-4e2f-bac0-afe3539c91cb",
   "metadata": {},
   "source": [
    "## Creating Histograms and Scatterplots"
   ]
  },
  {
   "cell_type": "markdown",
   "id": "d89828a5-63fd-4e61-a0c5-4ba4bbf79704",
   "metadata": {},
   "source": [
    "#### Histogram of 'Prices' column"
   ]
  },
  {
   "cell_type": "code",
   "execution_count": 19,
   "id": "49878d8a-376b-40bf-aab4-6eb69917603c",
   "metadata": {},
   "outputs": [
    {
     "data": {
      "text/plain": [
       "<Axes: ylabel='Frequency'>"
      ]
     },
     "execution_count": 19,
     "metadata": {},
     "output_type": "execute_result"
    },
    {
     "data": {
      "image/png": "[encoded data removed]",
      "text/plain": [
       "<Figure size 640x480 with 1 Axes>"
      ]
     },
     "metadata": {},
     "output_type": "display_data"
    }
   ],
   "source": [
    "#Histogram example\n",
    "ords_prods_merge['prices'].plot.hist(bins=25)"
   ]
  },
  {
   "cell_type": "markdown",
   "id": "317d9d03-c46c-4cc2-835b-924558a9d870",
   "metadata": {},
   "source": [
    "Why only one column? Let's check the data again...."
   ]
  },
  {
   "cell_type": "code",
   "execution_count": 20,
   "id": "1bc4afb1-6e8a-42be-babd-22b73abbf7d1",
   "metadata": {},
   "outputs": [
    {
     "data": {
      "text/plain": [
       "count    3.240486e+07\n",
       "mean     1.198023e+01\n",
       "std      4.956554e+02\n",
       "min      1.000000e+00\n",
       "25%      4.200000e+00\n",
       "50%      7.400000e+00\n",
       "75%      1.130000e+01\n",
       "max      9.999900e+04\n",
       "Name: prices, dtype: float64"
      ]
     },
     "execution_count": 20,
     "metadata": {},
     "output_type": "execute_result"
    }
   ],
   "source": [
    "ords_prods_merge['prices'].describe()"
   ]
  },
  {
   "cell_type": "markdown",
   "id": "f01a8824-b8b5-41e0-8a73-76f0bba51d6e",
   "metadata": {},
   "source": [
    "Check each individual stat...."
   ]
  },
  {
   "cell_type": "code",
   "execution_count": 21,
   "id": "5a3e30d5-6b6b-4d2c-8b6d-f591fc72ef74",
   "metadata": {},
   "outputs": [
    {
     "data": {
      "text/plain": [
       "np.float64(11.980225638383445)"
      ]
     },
     "execution_count": 21,
     "metadata": {},
     "output_type": "execute_result"
    }
   ],
   "source": [
    "ords_prods_merge['prices'].mean()"
   ]
  },
  {
   "cell_type": "code",
   "execution_count": 22,
   "id": "2f499d65-d39f-4d98-b8ae-02e9576f7463",
   "metadata": {},
   "outputs": [
    {
     "data": {
      "text/plain": [
       "7.4"
      ]
     },
     "execution_count": 22,
     "metadata": {},
     "output_type": "execute_result"
    }
   ],
   "source": [
    "ords_prods_merge['prices'].median()"
   ]
  },
  {
   "cell_type": "code",
   "execution_count": 23,
   "id": "2cce420e-fba4-4cb4-ae46-01f96b103f15",
   "metadata": {},
   "outputs": [
    {
     "data": {
      "text/plain": [
       "99999.0"
      ]
     },
     "execution_count": 23,
     "metadata": {},
     "output_type": "execute_result"
    }
   ],
   "source": [
    "ords_prods_merge['prices'].max()"
   ]
  },
  {
   "cell_type": "markdown",
   "id": "cc6d8bb9-1c20-4d29-89ab-21c39d1d30e7",
   "metadata": {},
   "source": [
    "While the mean and median are between 7 and 12 (relatively realistic), the max value yields a strange result. How could an item cost $99,999.00? This must be the result of data corruption or some kind of special value within the data. This is also what’s breaking your histogram—having most values between 7 and 12 (see the median and mean again) but an extreme value of 99,999 is forcing your histogram to shove all the small values into one bar and the extreme value in another one. And this second bar is so tiny that you can’t even see it on the chart. Hence, the one-column histogram you saw above."
   ]
  },
  {
   "cell_type": "markdown",
   "id": "1d47d69c-35e9-4e37-a57c-690a0836938c",
   "metadata": {},
   "source": [
    "#### Create Scatterplot"
   ]
  },
  {
   "cell_type": "markdown",
   "id": "11df9492-20cd-45ed-bced-9a8146243258",
   "metadata": {},
   "source": [
    "Create scatterplot to do more exploratory data analysis\n",
    "- check for outliers\n",
    "- plotting 'prices' against itself on x and y axis"
   ]
  },
  {
   "cell_type": "code",
   "execution_count": 24,
   "id": "09735f2b-539b-4afb-aede-d97f727228eb",
   "metadata": {},
   "outputs": [
    {
     "data": {
      "text/plain": [
       "<Axes: xlabel='prices', ylabel='prices'>"
      ]
     },
     "execution_count": 24,
     "metadata": {},
     "output_type": "execute_result"
    },
    {
     "data": {
      "image/png": "[encoded data removed]",
      "text/plain": [
       "<Figure size 640x480 with 1 Axes>"
      ]
     },
     "metadata": {},
     "output_type": "display_data"
    }
   ],
   "source": [
    "#Create scatterplot\n",
    "sns.scatterplot(x = 'prices', y = 'prices', data = ords_prods_merge)"
   ]
  },
  {
   "cell_type": "markdown",
   "id": "a7623296-93c4-45ee-97f3-c9f7c57dcb20",
   "metadata": {},
   "source": [
    "We see most values fall within the 7-12 data range. But what about the outliers around 20K an 100K?\n",
    " - More analysis is needed"
   ]
  },
  {
   "cell_type": "code",
   "execution_count": 28,
   "id": "46e04824-89b4-4cb1-99ff-1af2a5ae99ee",
   "metadata": {},
   "outputs": [
    {
     "data": {
      "text/html": [
       "<div>\n",
       "<style scoped>\n",
       "    .dataframe tbody tr th:only-of-type {\n",
       "        vertical-align: middle;\n",
       "    }\n",
       "\n",
       "    .dataframe tbody tr th {\n",
       "        vertical-align: top;\n",
       "    }\n",
       "\n",
       "    .dataframe thead th {\n",
       "        text-align: right;\n",
       "    }\n",
       "</style>\n",
       "<table border=\"1\" class=\"dataframe\">\n",
       "  <thead>\n",
       "    <tr style=\"text-align: right;\">\n",
       "      <th></th>\n",
       "      <th>order_id</th>\n",
       "      <th>user_id</th>\n",
       "      <th>order_number</th>\n",
       "      <th>orders_day_of_the_week</th>\n",
       "      <th>order_hour_of_day</th>\n",
       "      <th>days_since_prior_order</th>\n",
       "      <th>product_id</th>\n",
       "      <th>add_to_cart_order</th>\n",
       "      <th>reordered</th>\n",
       "      <th>product_name</th>\n",
       "      <th>...</th>\n",
       "      <th>price_range_loc</th>\n",
       "      <th>busiest_day</th>\n",
       "      <th>busiest_days</th>\n",
       "      <th>busiest_period_of_day</th>\n",
       "      <th>max_order</th>\n",
       "      <th>loyalty_flag</th>\n",
       "      <th>spending_flag</th>\n",
       "      <th>spender_type</th>\n",
       "      <th>median_flag</th>\n",
       "      <th>customer_frequency</th>\n",
       "    </tr>\n",
       "  </thead>\n",
       "  <tbody>\n",
       "    <tr>\n",
       "      <th>1576</th>\n",
       "      <td>912404</td>\n",
       "      <td>17</td>\n",
       "      <td>12</td>\n",
       "      <td>2</td>\n",
       "      <td>14</td>\n",
       "      <td>5.0</td>\n",
       "      <td>21553</td>\n",
       "      <td>5</td>\n",
       "      <td>0</td>\n",
       "      <td>Lowfat 2% Milkfat Cottage Cheese</td>\n",
       "      <td>...</td>\n",
       "      <td>High range product</td>\n",
       "      <td>Regularly busy</td>\n",
       "      <td>Regular days</td>\n",
       "      <td>Busiest hours</td>\n",
       "      <td>40</td>\n",
       "      <td>Regular customer</td>\n",
       "      <td>108.648299</td>\n",
       "      <td>High spender</td>\n",
       "      <td>5.0</td>\n",
       "      <td>Frequent customer</td>\n",
       "    </tr>\n",
       "    <tr>\n",
       "      <th>1638</th>\n",
       "      <td>603376</td>\n",
       "      <td>17</td>\n",
       "      <td>22</td>\n",
       "      <td>6</td>\n",
       "      <td>16</td>\n",
       "      <td>4.0</td>\n",
       "      <td>21553</td>\n",
       "      <td>3</td>\n",
       "      <td>1</td>\n",
       "      <td>Lowfat 2% Milkfat Cottage Cheese</td>\n",
       "      <td>...</td>\n",
       "      <td>High range product</td>\n",
       "      <td>Regularly busy</td>\n",
       "      <td>Regular days</td>\n",
       "      <td>Busiest hours</td>\n",
       "      <td>40</td>\n",
       "      <td>Regular customer</td>\n",
       "      <td>108.648299</td>\n",
       "      <td>High spender</td>\n",
       "      <td>5.0</td>\n",
       "      <td>Frequent customer</td>\n",
       "    </tr>\n",
       "    <tr>\n",
       "      <th>16522</th>\n",
       "      <td>3264360</td>\n",
       "      <td>135</td>\n",
       "      <td>2</td>\n",
       "      <td>2</td>\n",
       "      <td>21</td>\n",
       "      <td>13.0</td>\n",
       "      <td>21553</td>\n",
       "      <td>6</td>\n",
       "      <td>0</td>\n",
       "      <td>Lowfat 2% Milkfat Cottage Cheese</td>\n",
       "      <td>...</td>\n",
       "      <td>High range product</td>\n",
       "      <td>Regularly busy</td>\n",
       "      <td>Regular days</td>\n",
       "      <td>Average hours</td>\n",
       "      <td>4</td>\n",
       "      <td>New customer</td>\n",
       "      <td>1154.792308</td>\n",
       "      <td>High spender</td>\n",
       "      <td>12.0</td>\n",
       "      <td>Regular customer</td>\n",
       "    </tr>\n",
       "    <tr>\n",
       "      <th>16528</th>\n",
       "      <td>892534</td>\n",
       "      <td>135</td>\n",
       "      <td>3</td>\n",
       "      <td>0</td>\n",
       "      <td>8</td>\n",
       "      <td>12.0</td>\n",
       "      <td>21553</td>\n",
       "      <td>3</td>\n",
       "      <td>1</td>\n",
       "      <td>Lowfat 2% Milkfat Cottage Cheese</td>\n",
       "      <td>...</td>\n",
       "      <td>High range product</td>\n",
       "      <td>Busiest day</td>\n",
       "      <td>Busiest days</td>\n",
       "      <td>Average hours</td>\n",
       "      <td>4</td>\n",
       "      <td>New customer</td>\n",
       "      <td>1154.792308</td>\n",
       "      <td>High spender</td>\n",
       "      <td>12.0</td>\n",
       "      <td>Regular customer</td>\n",
       "    </tr>\n",
       "    <tr>\n",
       "      <th>53672</th>\n",
       "      <td>229704</td>\n",
       "      <td>342</td>\n",
       "      <td>8</td>\n",
       "      <td>1</td>\n",
       "      <td>19</td>\n",
       "      <td>30.0</td>\n",
       "      <td>21553</td>\n",
       "      <td>9</td>\n",
       "      <td>0</td>\n",
       "      <td>Lowfat 2% Milkfat Cottage Cheese</td>\n",
       "      <td>...</td>\n",
       "      <td>High range product</td>\n",
       "      <td>Regularly busy</td>\n",
       "      <td>Busiest days</td>\n",
       "      <td>Average hours</td>\n",
       "      <td>16</td>\n",
       "      <td>Regular customer</td>\n",
       "      <td>114.426619</td>\n",
       "      <td>High spender</td>\n",
       "      <td>23.0</td>\n",
       "      <td>Non-frequent customer</td>\n",
       "    </tr>\n",
       "    <tr>\n",
       "      <th>...</th>\n",
       "      <td>...</td>\n",
       "      <td>...</td>\n",
       "      <td>...</td>\n",
       "      <td>...</td>\n",
       "      <td>...</td>\n",
       "      <td>...</td>\n",
       "      <td>...</td>\n",
       "      <td>...</td>\n",
       "      <td>...</td>\n",
       "      <td>...</td>\n",
       "      <td>...</td>\n",
       "      <td>...</td>\n",
       "      <td>...</td>\n",
       "      <td>...</td>\n",
       "      <td>...</td>\n",
       "      <td>...</td>\n",
       "      <td>...</td>\n",
       "      <td>...</td>\n",
       "      <td>...</td>\n",
       "      <td>...</td>\n",
       "      <td>...</td>\n",
       "    </tr>\n",
       "    <tr>\n",
       "      <th>32320511</th>\n",
       "      <td>3172853</td>\n",
       "      <td>205650</td>\n",
       "      <td>18</td>\n",
       "      <td>1</td>\n",
       "      <td>9</td>\n",
       "      <td>7.0</td>\n",
       "      <td>21553</td>\n",
       "      <td>17</td>\n",
       "      <td>1</td>\n",
       "      <td>Lowfat 2% Milkfat Cottage Cheese</td>\n",
       "      <td>...</td>\n",
       "      <td>High range product</td>\n",
       "      <td>Regularly busy</td>\n",
       "      <td>Busiest days</td>\n",
       "      <td>Busiest hours</td>\n",
       "      <td>25</td>\n",
       "      <td>Regular customer</td>\n",
       "      <td>351.141618</td>\n",
       "      <td>High spender</td>\n",
       "      <td>6.0</td>\n",
       "      <td>Frequent customer</td>\n",
       "    </tr>\n",
       "    <tr>\n",
       "      <th>32347717</th>\n",
       "      <td>2504315</td>\n",
       "      <td>205818</td>\n",
       "      <td>3</td>\n",
       "      <td>5</td>\n",
       "      <td>15</td>\n",
       "      <td>3.0</td>\n",
       "      <td>21553</td>\n",
       "      <td>13</td>\n",
       "      <td>0</td>\n",
       "      <td>Lowfat 2% Milkfat Cottage Cheese</td>\n",
       "      <td>...</td>\n",
       "      <td>High range product</td>\n",
       "      <td>Regularly busy</td>\n",
       "      <td>Regular days</td>\n",
       "      <td>Busiest hours</td>\n",
       "      <td>25</td>\n",
       "      <td>Regular customer</td>\n",
       "      <td>170.073770</td>\n",
       "      <td>High spender</td>\n",
       "      <td>13.0</td>\n",
       "      <td>Regular customer</td>\n",
       "    </tr>\n",
       "    <tr>\n",
       "      <th>32347727</th>\n",
       "      <td>1108388</td>\n",
       "      <td>205818</td>\n",
       "      <td>5</td>\n",
       "      <td>4</td>\n",
       "      <td>5</td>\n",
       "      <td>1.0</td>\n",
       "      <td>21553</td>\n",
       "      <td>5</td>\n",
       "      <td>1</td>\n",
       "      <td>Lowfat 2% Milkfat Cottage Cheese</td>\n",
       "      <td>...</td>\n",
       "      <td>High range product</td>\n",
       "      <td>Least busy</td>\n",
       "      <td>Slowest days</td>\n",
       "      <td>Slowest hours</td>\n",
       "      <td>25</td>\n",
       "      <td>Regular customer</td>\n",
       "      <td>170.073770</td>\n",
       "      <td>High spender</td>\n",
       "      <td>13.0</td>\n",
       "      <td>Regular customer</td>\n",
       "    </tr>\n",
       "    <tr>\n",
       "      <th>32380527</th>\n",
       "      <td>1916142</td>\n",
       "      <td>206049</td>\n",
       "      <td>1</td>\n",
       "      <td>2</td>\n",
       "      <td>17</td>\n",
       "      <td>NaN</td>\n",
       "      <td>21553</td>\n",
       "      <td>2</td>\n",
       "      <td>0</td>\n",
       "      <td>Lowfat 2% Milkfat Cottage Cheese</td>\n",
       "      <td>...</td>\n",
       "      <td>High range product</td>\n",
       "      <td>Regularly busy</td>\n",
       "      <td>Regular days</td>\n",
       "      <td>Average hours</td>\n",
       "      <td>5</td>\n",
       "      <td>New customer</td>\n",
       "      <td>938.031250</td>\n",
       "      <td>High spender</td>\n",
       "      <td>7.0</td>\n",
       "      <td>Frequent customer</td>\n",
       "    </tr>\n",
       "    <tr>\n",
       "      <th>32380551</th>\n",
       "      <td>379732</td>\n",
       "      <td>206049</td>\n",
       "      <td>4</td>\n",
       "      <td>1</td>\n",
       "      <td>14</td>\n",
       "      <td>5.0</td>\n",
       "      <td>21553</td>\n",
       "      <td>4</td>\n",
       "      <td>1</td>\n",
       "      <td>Lowfat 2% Milkfat Cottage Cheese</td>\n",
       "      <td>...</td>\n",
       "      <td>High range product</td>\n",
       "      <td>Regularly busy</td>\n",
       "      <td>Busiest days</td>\n",
       "      <td>Busiest hours</td>\n",
       "      <td>5</td>\n",
       "      <td>New customer</td>\n",
       "      <td>938.031250</td>\n",
       "      <td>High spender</td>\n",
       "      <td>7.0</td>\n",
       "      <td>Frequent customer</td>\n",
       "    </tr>\n",
       "  </tbody>\n",
       "</table>\n",
       "<p>5127 rows × 24 columns</p>\n",
       "</div>"
      ],
      "text/plain": [
       "          order_id  user_id  order_number  orders_day_of_the_week  \\\n",
       "1576        912404       17            12                       2   \n",
       "1638        603376       17            22                       6   \n",
       "16522      3264360      135             2                       2   \n",
       "16528       892534      135             3                       0   \n",
       "53672       229704      342             8                       1   \n",
       "...            ...      ...           ...                     ...   \n",
       "32320511   3172853   205650            18                       1   \n",
       "32347717   2504315   205818             3                       5   \n",
       "32347727   1108388   205818             5                       4   \n",
       "32380527   1916142   206049             1                       2   \n",
       "32380551    379732   206049             4                       1   \n",
       "\n",
       "          order_hour_of_day  days_since_prior_order  product_id  \\\n",
       "1576                     14                     5.0       21553   \n",
       "1638                     16                     4.0       21553   \n",
       "16522                    21                    13.0       21553   \n",
       "16528                     8                    12.0       21553   \n",
       "53672                    19                    30.0       21553   \n",
       "...                     ...                     ...         ...   \n",
       "32320511                  9                     7.0       21553   \n",
       "32347717                 15                     3.0       21553   \n",
       "32347727                  5                     1.0       21553   \n",
       "32380527                 17                     NaN       21553   \n",
       "32380551                 14                     5.0       21553   \n",
       "\n",
       "          add_to_cart_order  reordered                      product_name  ...  \\\n",
       "1576                      5          0  Lowfat 2% Milkfat Cottage Cheese  ...   \n",
       "1638                      3          1  Lowfat 2% Milkfat Cottage Cheese  ...   \n",
       "16522                     6          0  Lowfat 2% Milkfat Cottage Cheese  ...   \n",
       "16528                     3          1  Lowfat 2% Milkfat Cottage Cheese  ...   \n",
       "53672                     9          0  Lowfat 2% Milkfat Cottage Cheese  ...   \n",
       "...                     ...        ...                               ...  ...   \n",
       "32320511                 17          1  Lowfat 2% Milkfat Cottage Cheese  ...   \n",
       "32347717                 13          0  Lowfat 2% Milkfat Cottage Cheese  ...   \n",
       "32347727                  5          1  Lowfat 2% Milkfat Cottage Cheese  ...   \n",
       "32380527                  2          0  Lowfat 2% Milkfat Cottage Cheese  ...   \n",
       "32380551                  4          1  Lowfat 2% Milkfat Cottage Cheese  ...   \n",
       "\n",
       "             price_range_loc     busiest_day  busiest_days  \\\n",
       "1576      High range product  Regularly busy  Regular days   \n",
       "1638      High range product  Regularly busy  Regular days   \n",
       "16522     High range product  Regularly busy  Regular days   \n",
       "16528     High range product     Busiest day  Busiest days   \n",
       "53672     High range product  Regularly busy  Busiest days   \n",
       "...                      ...             ...           ...   \n",
       "32320511  High range product  Regularly busy  Busiest days   \n",
       "32347717  High range product  Regularly busy  Regular days   \n",
       "32347727  High range product      Least busy  Slowest days   \n",
       "32380527  High range product  Regularly busy  Regular days   \n",
       "32380551  High range product  Regularly busy  Busiest days   \n",
       "\n",
       "         busiest_period_of_day max_order      loyalty_flag spending_flag  \\\n",
       "1576             Busiest hours        40  Regular customer    108.648299   \n",
       "1638             Busiest hours        40  Regular customer    108.648299   \n",
       "16522            Average hours         4      New customer   1154.792308   \n",
       "16528            Average hours         4      New customer   1154.792308   \n",
       "53672            Average hours        16  Regular customer    114.426619   \n",
       "...                        ...       ...               ...           ...   \n",
       "32320511         Busiest hours        25  Regular customer    351.141618   \n",
       "32347717         Busiest hours        25  Regular customer    170.073770   \n",
       "32347727         Slowest hours        25  Regular customer    170.073770   \n",
       "32380527         Average hours         5      New customer    938.031250   \n",
       "32380551         Busiest hours         5      New customer    938.031250   \n",
       "\n",
       "          spender_type  median_flag     customer_frequency  \n",
       "1576      High spender          5.0      Frequent customer  \n",
       "1638      High spender          5.0      Frequent customer  \n",
       "16522     High spender         12.0       Regular customer  \n",
       "16528     High spender         12.0       Regular customer  \n",
       "53672     High spender         23.0  Non-frequent customer  \n",
       "...                ...          ...                    ...  \n",
       "32320511  High spender          6.0      Frequent customer  \n",
       "32347717  High spender         13.0       Regular customer  \n",
       "32347727  High spender         13.0       Regular customer  \n",
       "32380527  High spender          7.0      Frequent customer  \n",
       "32380551  High spender          7.0      Frequent customer  \n",
       "\n",
       "[5127 rows x 24 columns]"
      ]
     },
     "execution_count": 28,
     "metadata": {},
     "output_type": "execute_result"
    }
   ],
   "source": [
    "#Check values above \"normal\" threshold\n",
    "ords_prods_merge.loc[ords_prods_merge['prices'] > 100]"
   ]
  },
  {
   "cell_type": "markdown",
   "id": "7c3a9327-b869-4d45-bd62-b285a8984ea7",
   "metadata": {},
   "source": [
    "From the output, you can see that there are 5,127 rows with outlier observations (prices greater than 100). In addition, at the top of the “prices” column, you can see that there’s another odd value, 14,900.00, which corresponds to the second unexplainable point in the scatterplot. Following this is the 99,999.00 you identified previously. As such, you can assume that it’s the 14,900.00 and 99,999.00 values that are skewing your charts."
   ]
  },
  {
   "cell_type": "markdown",
   "id": "d70478f6-8a2b-4334-a0c7-3ff46c5a2767",
   "metadata": {},
   "source": [
    "- For now, let's turn those values over 100 in prices into \"NaNs\". NaN is in the numpy library to signify missing values"
   ]
  },
  {
   "cell_type": "code",
   "execution_count": 31,
   "id": "5bb9632a-aacb-44c4-b3c3-411a5d1d41d2",
   "metadata": {},
   "outputs": [],
   "source": [
    "#Turn large values over 100 into NaN values\n",
    "ords_prods_merge.loc[ords_prods_merge['prices'] > 100, 'prices'] = np.nan"
   ]
  },
  {
   "cell_type": "code",
   "execution_count": 32,
   "id": "616ed1ea-88f1-4541-b94d-f3dc18a8bf2e",
   "metadata": {},
   "outputs": [
    {
     "data": {
      "text/plain": [
       "25.0"
      ]
     },
     "execution_count": 32,
     "metadata": {},
     "output_type": "execute_result"
    }
   ],
   "source": [
    "#Check max value now\n",
    "ords_prods_merge['prices'].max()"
   ]
  },
  {
   "cell_type": "markdown",
   "id": "1f19f997-b1be-4f94-822f-312d7be03a00",
   "metadata": {},
   "source": [
    "*Outliers have been removed*"
   ]
  },
  {
   "cell_type": "code",
   "execution_count": 36,
   "id": "599fb58e-b328-4564-9bd9-bafdbc87f5ba",
   "metadata": {},
   "outputs": [
    {
     "data": {
      "image/png": "[encoded data removed]",
      "text/plain": [
       "<Figure size 640x480 with 1 Axes>"
      ]
     },
     "metadata": {},
     "output_type": "display_data"
    }
   ],
   "source": [
    "#Try histogram example again:\n",
    "hist = ords_prods_merge['prices'].plot.hist(bins=25)"
   ]
  },
  {
   "cell_type": "markdown",
   "id": "80d6254f-80e7-4cf9-8db2-3e1a806f65cb",
   "metadata": {},
   "source": [
    "Increase granulairty level in histogram, for more thiner columns"
   ]
  },
  {
   "cell_type": "code",
   "execution_count": 37,
   "id": "83367c4f-32a7-48dc-81e0-0b2f925139fd",
   "metadata": {},
   "outputs": [
    {
     "data": {
      "image/png": "[encoded data removed]",
      "text/plain": [
       "<Figure size 640x480 with 1 Axes>"
      ]
     },
     "metadata": {},
     "output_type": "display_data"
    }
   ],
   "source": [
    "#Change bins size to 70\n",
    "hist_2 = ords_prods_merge['prices'].plot.hist(bins = 70)"
   ]
  },
  {
   "cell_type": "markdown",
   "id": "7a2d40f6-8c1a-408f-800e-09b098b36787",
   "metadata": {},
   "source": [
    "### Exporting Histogram Visualization"
   ]
  },
  {
   "cell_type": "code",
   "execution_count": 39,
   "id": "c4e0fc69-cf03-41a9-9540-be6c36477bb6",
   "metadata": {},
   "outputs": [],
   "source": [
    "#Exporting Histogram (Exact same as bar)\n",
    "hist_2.figure.savefig(os.path.join(path, '04 Analysis', 'Visualizations', 'hist_prices.png'))"
   ]
  },
  {
   "cell_type": "markdown",
   "id": "3b191a89-87f1-4c62-8ff8-adfea045fe67",
   "metadata": {},
   "source": [
    "## -"
   ]
  },
  {
   "cell_type": "markdown",
   "id": "a18b8760-11f1-47f1-a15b-e6279434c49f",
   "metadata": {},
   "source": [
    "## Creating Line Charts"
   ]
  },
  {
   "cell_type": "markdown",
   "id": "3860844d-3141-4819-83cc-22b079d1fef6",
   "metadata": {},
   "source": [
    "- Create line chart using prices across days of the week\n",
    "- First need subst df because line chart eould crash with too many row values"
   ]
  },
  {
   "cell_type": "code",
   "execution_count": 42,
   "id": "b0d75cbc-12f1-48c3-937c-6ecf75779729",
   "metadata": {},
   "outputs": [],
   "source": [
    "#Create 2M row subset?\n",
    "df = ords_prods_merge[:2000000]"
   ]
  },
  {
   "cell_type": "markdown",
   "id": "b477d963-895b-4070-9c0b-a2c6b7e8497d",
   "metadata": {},
   "source": [
    "The above won't work because it's not a random distribution sample\n",
    "- Need to collect a better/representative sample\n",
    "- 70/30 or 80/20 split is good, and should be compared\n",
    "- Need to creat a dloting numer 0-1 that represents 100% of the df\n",
    "- Anything above .7 vs. under .7 placed"
   ]
  },
  {
   "cell_type": "code",
   "execution_count": 44,
   "id": "52133c5f-8373-48f7-8840-b3849b024c02",
   "metadata": {},
   "outputs": [],
   "source": [
    "#Create random distribution\n",
    "np.random.seed(4)\n",
    "dev = np.random.rand(len(ords_prods_merge)) <= 0.7"
   ]
  },
  {
   "cell_type": "markdown",
   "id": "27ebc568-5d90-420e-8002-fd553c192f6d",
   "metadata": {},
   "source": [
    "The seed is set via the NumPy function random.seed(). We’ve set the seed to 4 for now. Feel free to do so as you follow along to ensure you’re using the same random pattern of numbers as in the examples. Then, in the second line of the command, you create a new list called dev. This will be what stores your boolean values—you’ll be getting an output of True or False for every value based on whether it’s less than or equal to 0.7:\n",
    "\n",
    "Within the brackets of this function, you’ll see len(ords_prods_merge). This len() produces a value that represents the length of whatever you put inside it. By passing your dataframe, you’ll receive an output of 32,404,859, which is how many rows are in your dataframe."
   ]
  },
  {
   "cell_type": "code",
   "execution_count": 45,
   "id": "bb77a548-5be0-42b6-bb72-5171346146a3",
   "metadata": {},
   "outputs": [
    {
     "data": {
      "text/plain": [
       "array([False,  True, False, ...,  True,  True,  True])"
      ]
     },
     "execution_count": 45,
     "metadata": {},
     "output_type": "execute_result"
    }
   ],
   "source": [
    "dev"
   ]
  },
  {
   "cell_type": "code",
   "execution_count": 48,
   "id": "b44cf09e-6bc2-46c3-a968-408b9bbc20dd",
   "metadata": {},
   "outputs": [
    {
     "data": {
      "text/plain": [
       "array([0.0164016 , 0.99588525, 0.68895442, 0.9491469 , 0.63012328,\n",
       "       0.9192488 , 0.87788077, 0.3936537 , 0.64745848, 0.73786691])"
      ]
     },
     "execution_count": 48,
     "metadata": {},
     "output_type": "execute_result"
    }
   ],
   "source": [
    "#10 radnom number between 0-1\n",
    "np.random.rand(10)"
   ]
  },
  {
   "cell_type": "code",
   "execution_count": 49,
   "id": "18c2d34d-5687-450c-b0d4-171fe1b2d86f",
   "metadata": {},
   "outputs": [
    {
     "data": {
      "text/plain": [
       "32404859"
      ]
     },
     "execution_count": 49,
     "metadata": {},
     "output_type": "execute_result"
    }
   ],
   "source": [
    "#Length of dataframe, which we split into above in random values\n",
    "len(ords_prods_merge)"
   ]
  },
  {
   "cell_type": "markdown",
   "id": "49100aaa-5692-4342-8b8e-200f59bb3caa",
   "metadata": {},
   "source": [
    "So, to recap each piece of the split code, you need to:\n",
    "\n",
    "1. Set the seed for the random number generator.\n",
    "2. Create 32,404,859 random numbers (the length of your ords_prods_merge dataframe) ranging between 0 and 1.\n",
    "3. Code a logical test comparing each of those numbers to a value of 0.7 (either less than or greater than 0.7).\n",
    "4. Store the results of the test in a new list, dev, in the form of boolean values (True and False)."
   ]
  },
  {
   "cell_type": "code",
   "execution_count": 50,
   "id": "5cd70a15-f456-4928-93dc-1235ffd1a901",
   "metadata": {},
   "outputs": [],
   "source": [
    "#Split the list into 2 samples\n",
    "big = ords_prods_merge[dev]\n",
    "small = ords_prods_merge[~dev]"
   ]
  },
  {
   "cell_type": "markdown",
   "id": "3ab421b4-cbde-4463-bfd3-4db43c9be80a",
   "metadata": {},
   "source": [
    "- Big represents the larger 70% sample from the 'dev' sample we created\n",
    "- Small represents the the false 30% from the 'dev'sample"
   ]
  },
  {
   "cell_type": "markdown",
   "id": "6fde8933-0243-432f-95ac-49d54dd1d794",
   "metadata": {},
   "source": [
    "The tilde you see in the second line negates the argument, in other words, it stores everything that’s not dev, or False."
   ]
  },
  {
   "cell_type": "code",
   "execution_count": 55,
   "id": "73d81f07-571f-4744-b0f2-4f4d1bec78ec",
   "metadata": {},
   "outputs": [
    {
     "data": {
      "text/plain": [
       "32404859"
      ]
     },
     "execution_count": 55,
     "metadata": {},
     "output_type": "execute_result"
    }
   ],
   "source": [
    "#Test the length of the new samples, theoretically should add up to the same rows\n",
    "len(ords_prods_merge)"
   ]
  },
  {
   "cell_type": "code",
   "execution_count": 54,
   "id": "66b9f763-a14d-4ea4-9eba-cc10911e9dd6",
   "metadata": {},
   "outputs": [
    {
     "data": {
      "text/plain": [
       "32404859"
      ]
     },
     "execution_count": 54,
     "metadata": {},
     "output_type": "execute_result"
    }
   ],
   "source": [
    "#Length size of samples\n",
    "len(big) + len(small)"
   ]
  },
  {
   "cell_type": "code",
   "execution_count": 56,
   "id": "5fcc83d1-4bf0-4f57-9a18-fdd4e3b33da1",
   "metadata": {},
   "outputs": [],
   "source": [
    "#Last step is to create subset with only the columns we want\n",
    "df_2 = small[['orders_day_of_the_week','prices']]"
   ]
  },
  {
   "cell_type": "markdown",
   "id": "c4179001-0382-4518-b1a5-8b53db4ad7e1",
   "metadata": {},
   "source": [
    "## Line Charts"
   ]
  },
  {
   "cell_type": "code",
   "execution_count": 60,
   "id": "03853ef7-7341-4a76-ae57-e571fb01c663",
   "metadata": {},
   "outputs": [
    {
     "data": {
      "image/png": "[encoded data removed]",
      "text/plain": [
       "<Figure size 640x480 with 1 Axes>"
      ]
     },
     "metadata": {},
     "output_type": "display_data"
    }
   ],
   "source": [
    "#Line Chart syntax\n",
    "line = sns.lineplot(data = df_2, x = 'orders_day_of_the_week', y = 'prices')"
   ]
  },
  {
   "cell_type": "markdown",
   "id": "5e0b7296-954d-4fde-901b-661d0afba7ed",
   "metadata": {},
   "source": [
    "sns.lineplot() is line graph syntax"
   ]
  },
  {
   "cell_type": "code",
   "execution_count": 62,
   "id": "6e83fbdf-684d-49f1-b266-db0b6de716c1",
   "metadata": {
    "scrolled": true
   },
   "outputs": [
    {
     "data": {
      "text/plain": [
       "order_id                     int64\n",
       "user_id                      int64\n",
       "order_number                 int64\n",
       "orders_day_of_the_week       int64\n",
       "order_hour_of_day            int64\n",
       "days_since_prior_order     float64\n",
       "product_id                   int64\n",
       "add_to_cart_order            int64\n",
       "reordered                    int64\n",
       "product_name                object\n",
       "aisle_id                     int64\n",
       "department_id                int64\n",
       "prices                     float64\n",
       "_merge                    category\n",
       "price_range_loc             object\n",
       "busiest_day                 object\n",
       "busiest_days                object\n",
       "busiest_period_of_day       object\n",
       "max_order                    int64\n",
       "loyalty_flag                object\n",
       "spending_flag              float64\n",
       "spender_type                object\n",
       "median_flag                float64\n",
       "customer_frequency          object\n",
       "dtype: object"
      ]
     },
     "execution_count": 62,
     "metadata": {},
     "output_type": "execute_result"
    }
   ],
   "source": [
    "ords_prods_merge.dtypes"
   ]
  }
 ],
 "metadata": {
  "kernelspec": {
   "display_name": "Python [conda env:base] *",
   "language": "python",
   "name": "conda-base-py"
  },
  "language_info": {
   "codemirror_mode": {
    "name": "ipython",
    "version": 3
   },
   "file_extension": ".py",
   "mimetype": "text/x-python",
   "name": "python",
   "nbconvert_exporter": "python",
   "pygments_lexer": "ipython3",
   "version": "3.13.5"
  }
 },
 "nbformat": 4,
 "nbformat_minor": 5
}
