{
 "cells": [
  {
   "cell_type": "markdown",
   "id": "cc6f610d-75e4-404e-9fd3-988eb0d9b2b0",
   "metadata": {},
   "source": [
    "# 4.10 - Coding Etiquette & Excel Reporting"
   ]
  },
  {
   "cell_type": "markdown",
   "id": "5566df69-f964-49cb-a141-1f548923339b",
   "metadata": {},
   "source": [
    "## Import Libraries and Paths/Dataframes"
   ]
  },
  {
   "cell_type": "code",
   "execution_count": 1,
   "id": "876f1925-a1c6-409f-89ff-c5dc45c78797",
   "metadata": {},
   "outputs": [],
   "source": [
    "#Import libraries\n",
    "import pandas as pd\n",
    "import numpy as np\n",
    "import os\n",
    "import matplotlib.pyplot as plt\n",
    "import seaborn as sns\n",
    "import scipy"
   ]
  },
  {
   "cell_type": "code",
   "execution_count": 2,
   "id": "cbde1ad1-8a15-46e0-aead-8864fb653f44",
   "metadata": {},
   "outputs": [],
   "source": [
    "#Create path\n",
    "path = r'/Users/puneet/Desktop/Instacart Basket Analysis 08-2025'"
   ]
  },
  {
   "cell_type": "code",
   "execution_count": 3,
   "id": "55133d90-5e52-4e47-a60a-48d98ea064a2",
   "metadata": {},
   "outputs": [],
   "source": [
    "#Import Instacart dataset\n",
    "df_merged = pd.read_pickle(os.path.join(path, '02 Data', 'Prepared Data', 'ords_prods_cust_merge_E49.pkl'))"
   ]
  },
  {
   "cell_type": "code",
   "execution_count": 10,
   "id": "e6630976-8253-48df-b26a-d6d9c8f4a95d",
   "metadata": {},
   "outputs": [
    {
     "data": {
      "text/plain": [
       "Index(['order_id', 'user_id', 'order_number', 'orders_day_of_the_week',\n",
       "       'order_hour_of_day', 'days_since_prior_order', 'product_id',\n",
       "       'add_to_cart_order', 'reordered', 'product_name', 'aisle_id',\n",
       "       'department_id', 'prices', '_merge', 'price_range_loc', 'busiest_day',\n",
       "       'busiest_days', 'busiest_period_of_day', 'max_order', 'loyalty_flag',\n",
       "       'spending_flag', 'spender_type', 'median_flag', 'customer_frequency',\n",
       "       'first_name', 'last_name', 'gender', 'state', 'age', 'date_joined',\n",
       "       'number_of_dependants', 'family_status', 'income'],\n",
       "      dtype='object')"
      ]
     },
     "execution_count": 10,
     "metadata": {},
     "output_type": "execute_result"
    }
   ],
   "source": [
    "#Check columns\n",
    "df_merged.columns"
   ]
  },
  {
   "cell_type": "markdown",
   "id": "f67cca0a-e789-4b15-80a2-8ffb11b7d88c",
   "metadata": {},
   "source": [
    "## -"
   ]
  },
  {
   "cell_type": "markdown",
   "id": "b7abcaa9-a940-4eec-85e1-b7d68aef75a2",
   "metadata": {},
   "source": [
    "## Crosstabs in Python"
   ]
  },
  {
   "cell_type": "markdown",
   "id": "377415ad-8de7-4776-b1f3-29aca36ba875",
   "metadata": {},
   "source": [
    "Crosstabs are a common tool for conducting data checks in Python. Think of them as Python’s version of Excel’s pivot tables. Let’s try creating one using an example from Instacart."
   ]
  },
  {
   "cell_type": "markdown",
   "id": "9eb74ec4-8bac-482a-ac36-3939bc126ad9",
   "metadata": {},
   "source": [
    "- Execute crosstab between \"days since prior order\" and \"order number\" columns\n",
    "- Insert output into Excel for easier viewing"
   ]
  },
  {
   "cell_type": "code",
   "execution_count": 5,
   "id": "18ed3497-af53-4b6c-bb3f-fc16812dc506",
   "metadata": {},
   "outputs": [],
   "source": [
    "#Crosstab code\n",
    "crosstab = pd.crosstab(df_merged['days_since_prior_order'],df_merged['order_number'], dropna = False)"
   ]
  },
  {
   "cell_type": "code",
   "execution_count": 6,
   "id": "c24f6d12-d9e5-4821-9fb6-89882482ad98",
   "metadata": {},
   "outputs": [],
   "source": [
    "#Crosstab to clipboard code for pasting in Excel\n",
    "crosstab.to_clipboard()"
   ]
  },
  {
   "cell_type": "markdown",
   "id": "5b48f2cd-9a6e-43c6-9881-6b1e39f40cae",
   "metadata": {},
   "source": [
    "#### *Next step was pasting in Excel*"
   ]
  },
  {
   "cell_type": "markdown",
   "id": "07b91a1f-ad3c-4213-9626-90734f58785c",
   "metadata": {},
   "source": [
    "if you look at where your “days_since_prior_order” column crosses with order numbers of 1, you’ll see that the entire column is populated with 0s. This supports your initial assumption about missing values and means you can safely disregard them."
   ]
  },
  {
   "cell_type": "code",
   "execution_count": null,
   "id": "94c4da1b-94ad-4ead-8a88-6468034f03c2",
   "metadata": {},
   "outputs": [],
   "source": []
  }
 ],
 "metadata": {
  "kernelspec": {
   "display_name": "Python [conda env:base] *",
   "language": "python",
   "name": "conda-base-py"
  },
  "language_info": {
   "codemirror_mode": {
    "name": "ipython",
    "version": 3
   },
   "file_extension": ".py",
   "mimetype": "text/x-python",
   "name": "python",
   "nbconvert_exporter": "python",
   "pygments_lexer": "ipython3",
   "version": "3.13.5"
  }
 },
 "nbformat": 4,
 "nbformat_minor": 5
}
