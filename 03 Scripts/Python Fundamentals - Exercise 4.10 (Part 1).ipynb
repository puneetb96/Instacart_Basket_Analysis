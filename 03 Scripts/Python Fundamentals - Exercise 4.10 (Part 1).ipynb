{
 "cells": [
  {
   "cell_type": "markdown",
   "id": "cc6f610d-75e4-404e-9fd3-988eb0d9b2b0",
   "metadata": {},
   "source": [
    "# Python Fundamentals - Exercise 4.10 (Part 1)"
   ]
  },
  {
   "cell_type": "markdown",
   "id": "5566df69-f964-49cb-a141-1f548923339b",
   "metadata": {},
   "source": [
    "## 1. Import Libraries and Paths/Dataframes"
   ]
  },
  {
   "cell_type": "code",
   "execution_count": 2,
   "id": "876f1925-a1c6-409f-89ff-c5dc45c78797",
   "metadata": {},
   "outputs": [],
   "source": [
    "#Import libraries\n",
    "import pandas as pd\n",
    "import numpy as np\n",
    "import os\n",
    "import matplotlib.pyplot as plt\n",
    "import seaborn as sns\n",
    "import scipy"
   ]
  },
  {
   "cell_type": "code",
   "execution_count": 3,
   "id": "cbde1ad1-8a15-46e0-aead-8864fb653f44",
   "metadata": {},
   "outputs": [],
   "source": [
    "#Create path\n",
    "path = r'/Users/puneet/Desktop/Instacart Basket Analysis 08-2025'"
   ]
  },
  {
   "cell_type": "code",
   "execution_count": 4,
   "id": "55133d90-5e52-4e47-a60a-48d98ea064a2",
   "metadata": {},
   "outputs": [],
   "source": [
    "#Import Instacart dataset\n",
    "df_merged = pd.read_pickle(os.path.join(path, '02 Data', 'Prepared Data', 'ords_prods_cust_merge_E49.pkl'))"
   ]
  },
  {
   "cell_type": "markdown",
   "id": "f67cca0a-e789-4b15-80a2-8ffb11b7d88c",
   "metadata": {},
   "source": [
    "## -"
   ]
  },
  {
   "cell_type": "markdown",
   "id": "82ee44d0-733e-4fd6-841c-03c41779e4eb",
   "metadata": {},
   "source": [
    "## 2. Consider any security implications that might exist for this new data. You’ll need to address any PII data in the data before continuing your analysis."
   ]
  },
  {
   "cell_type": "code",
   "execution_count": 39,
   "id": "53907b15-4a18-47fc-bf69-159443416699",
   "metadata": {},
   "outputs": [
    {
     "data": {
      "text/plain": [
       "Index(['order_id', 'user_id', 'order_number', 'orders_day_of_the_week',\n",
       "       'order_hour_of_day', 'days_since_prior_order', 'product_id',\n",
       "       'add_to_cart_order', 'reordered', 'product_name', 'aisle_id',\n",
       "       'department_id', 'prices', '_merge', 'price_range_loc', 'busiest_day',\n",
       "       'busiest_days', 'busiest_period_of_day', 'max_order', 'loyalty_flag',\n",
       "       'spending_flag', 'spender_type', 'median_flag', 'customer_frequency',\n",
       "       'first_name', 'last_name', 'gender', 'state', 'age', 'date_joined',\n",
       "       'number_of_dependants', 'family_status', 'income'],\n",
       "      dtype='object')"
      ]
     },
     "execution_count": 39,
     "metadata": {},
     "output_type": "execute_result"
    }
   ],
   "source": [
    "#Check columns to see about sensistive information\n",
    "df_merged.columns"
   ]
  },
  {
   "cell_type": "markdown",
   "id": "885c6ea8-e38c-4751-9fa1-c0e656da2b86",
   "metadata": {},
   "source": [
    "- The main portion of this dataset that deals with PII (personally identifiable information) is the first and last name columns of each of the customers\n",
    "- Typically, we would go by a unique ID for each customer for security reasons, and exclude the firs and last name columns in the dataset\n",
    "- For the purposes of this project, we can leave the columns in for now."
   ]
  },
  {
   "cell_type": "markdown",
   "id": "1dc26a78-7654-4c95-9c96-177037065e10",
   "metadata": {},
   "source": [
    "## -"
   ]
  },
  {
   "cell_type": "markdown",
   "id": "1cb1bb9f-668f-4bfc-8139-11057b5d65a3",
   "metadata": {},
   "source": [
    "## 3. The Instacart officers are interested in comparing customer behavior in different geographic areas. Create a regional segmentation of the data. You’ll need to create a “Region” column based on the “State” column from your customers data set.\n",
    "\n",
    "- Use the region information in this Wikipedia article to create your column (you only need to create regions, not divisions).\n",
    "- Determine whether there’s a difference in spending habits between the different U.S. regions. (Hint: You can do this by crossing the variable you just created with the spending flag.)"
   ]
  },
  {
   "cell_type": "code",
   "execution_count": 5,
   "id": "a76b7a5f-91fb-4d34-84da-51fe7b0ffc2b",
   "metadata": {},
   "outputs": [
    {
     "data": {
      "text/plain": [
       "array(['Alabama', 'Alaska', 'Arizona', 'Arkansas', 'California',\n",
       "       'Colorado', 'Connecticut', 'Delaware', 'District of Columbia',\n",
       "       'Florida', 'Georgia', 'Hawaii', 'Idaho', 'Illinois', 'Indiana',\n",
       "       'Iowa', 'Kansas', 'Kentucky', 'Louisiana', 'Maine', 'Montana',\n",
       "       'Nebraska', 'Nevada', 'New Hampshire', 'New Jersey', 'New Mexico',\n",
       "       'New York', 'North Carolina', 'North Dakota', 'Ohio', 'Oklahoma',\n",
       "       'Oregon', 'Maryland', 'Massachusetts', 'Michigan', 'Minnesota',\n",
       "       'Mississippi', 'Missouri', 'Pennsylvania', 'Rhode Island',\n",
       "       'South Carolina', 'South Dakota', 'Tennessee', 'Texas', 'Utah',\n",
       "       'Vermont', 'Virginia', 'Washington', 'West Virginia', 'Wisconsin',\n",
       "       'Wyoming'], dtype=object)"
      ]
     },
     "execution_count": 5,
     "metadata": {},
     "output_type": "execute_result"
    }
   ],
   "source": [
    "#Check state values in dataframe\n",
    "df_merged['state'].unique()"
   ]
  },
  {
   "cell_type": "code",
   "execution_count": 6,
   "id": "abd97bbe-2f5a-4ed8-b72e-2a6b5e0bfccc",
   "metadata": {},
   "outputs": [],
   "source": [
    "#Create region_map defintion\n",
    "\n",
    "def region_map(state):\n",
    "    if state in['Maine','New Hampshire','Vermont','Connecticut','Rhode Island',\n",
    "                'Massachusetts','New York','Pennsylvania','New Jersey']:\n",
    "        return 'Northeast'\n",
    "    elif state in['Wisconsin','Illinois','Michigan','Indiana','Ohio','North Dakota',\n",
    "                  'South Dakota','Nebraska','Kansas','Minnesota','Missouri','Iowa']:\n",
    "        return 'Midwest'\n",
    "    elif state in ['Delaware', 'District of Columbia','Virginia','Maryland',\n",
    "                   'West Virginia','Florida', 'Georgia','North Carolina',\n",
    "                   'South Carolina','Kentucky','Tennessee', 'Texas','Alabama',\n",
    "                   'Mississippi','Oklahoma','Arkansas','Louisiana']:\n",
    "        return 'South'\n",
    "    elif state in['Hawaii', 'Idaho','Alaska','Wyoming','Washington','Montana','Nevada',\n",
    "                  'Arizona','Utah','California','Colorado','New Mexico','Oregon']:\n",
    "        return 'West'\n",
    "    else:\n",
    "        return 'Unkown Region'"
   ]
  },
  {
   "cell_type": "code",
   "execution_count": 7,
   "id": "1695e0ac-6a40-4519-8545-6db982d60ef0",
   "metadata": {},
   "outputs": [],
   "source": [
    "#Apply region_map function to dataframe to create new 'Region' column\n",
    "df_merged['region'] = df_merged['state'].apply(region_map)"
   ]
  },
  {
   "cell_type": "code",
   "execution_count": 8,
   "id": "485ec525-b06a-410d-a206-48ccc57eb593",
   "metadata": {},
   "outputs": [
    {
     "data": {
      "text/plain": [
       "array(['South', 'West', 'Northeast', 'Midwest'], dtype=object)"
      ]
     },
     "execution_count": 8,
     "metadata": {},
     "output_type": "execute_result"
    }
   ],
   "source": [
    "#Check new 'Region' column values\n",
    "df_merged['region'].unique()"
   ]
  },
  {
   "cell_type": "code",
   "execution_count": 9,
   "id": "b675cc1b-fbcd-40f0-87fb-0a81d6eb099d",
   "metadata": {},
   "outputs": [
    {
     "data": {
      "text/html": [
       "<div>\n",
       "<style scoped>\n",
       "    .dataframe tbody tr th:only-of-type {\n",
       "        vertical-align: middle;\n",
       "    }\n",
       "\n",
       "    .dataframe tbody tr th {\n",
       "        vertical-align: top;\n",
       "    }\n",
       "\n",
       "    .dataframe thead th {\n",
       "        text-align: right;\n",
       "    }\n",
       "</style>\n",
       "<table border=\"1\" class=\"dataframe\">\n",
       "  <thead>\n",
       "    <tr style=\"text-align: right;\">\n",
       "      <th></th>\n",
       "      <th>state</th>\n",
       "      <th>region</th>\n",
       "    </tr>\n",
       "  </thead>\n",
       "  <tbody>\n",
       "    <tr>\n",
       "      <th>0</th>\n",
       "      <td>Alabama</td>\n",
       "      <td>South</td>\n",
       "    </tr>\n",
       "    <tr>\n",
       "      <th>59</th>\n",
       "      <td>Alaska</td>\n",
       "      <td>West</td>\n",
       "    </tr>\n",
       "    <tr>\n",
       "      <th>254</th>\n",
       "      <td>Arizona</td>\n",
       "      <td>West</td>\n",
       "    </tr>\n",
       "    <tr>\n",
       "      <th>342</th>\n",
       "      <td>Arkansas</td>\n",
       "      <td>South</td>\n",
       "    </tr>\n",
       "    <tr>\n",
       "      <th>360</th>\n",
       "      <td>California</td>\n",
       "      <td>West</td>\n",
       "    </tr>\n",
       "    <tr>\n",
       "      <th>397</th>\n",
       "      <td>Colorado</td>\n",
       "      <td>West</td>\n",
       "    </tr>\n",
       "    <tr>\n",
       "      <th>411</th>\n",
       "      <td>Connecticut</td>\n",
       "      <td>Northeast</td>\n",
       "    </tr>\n",
       "    <tr>\n",
       "      <th>617</th>\n",
       "      <td>Delaware</td>\n",
       "      <td>South</td>\n",
       "    </tr>\n",
       "    <tr>\n",
       "      <th>666</th>\n",
       "      <td>District of Columbia</td>\n",
       "      <td>South</td>\n",
       "    </tr>\n",
       "    <tr>\n",
       "      <th>742</th>\n",
       "      <td>Florida</td>\n",
       "      <td>South</td>\n",
       "    </tr>\n",
       "  </tbody>\n",
       "</table>\n",
       "</div>"
      ],
      "text/plain": [
       "                    state     region\n",
       "0                 Alabama      South\n",
       "59                 Alaska       West\n",
       "254               Arizona       West\n",
       "342              Arkansas      South\n",
       "360            California       West\n",
       "397              Colorado       West\n",
       "411           Connecticut  Northeast\n",
       "617              Delaware      South\n",
       "666  District of Columbia      South\n",
       "742               Florida      South"
      ]
     },
     "execution_count": 9,
     "metadata": {},
     "output_type": "execute_result"
    }
   ],
   "source": [
    "#Check 'region' column, (first 10 states that show up)\n",
    "df_merged[['state','region']].drop_duplicates().head(10)"
   ]
  },
  {
   "cell_type": "markdown",
   "id": "ca794ba9-73c5-4d85-bd21-45c2340cfce9",
   "metadata": {},
   "source": [
    "### *Newly applied 'region' column looks good*"
   ]
  },
  {
   "cell_type": "markdown",
   "id": "baee05d8-d008-44b1-8471-5f5c4c972e85",
   "metadata": {},
   "source": [
    "## -"
   ]
  },
  {
   "cell_type": "code",
   "execution_count": null,
   "id": "6b28f08c-aaf3-4753-9d8b-c548ae40c1ec",
   "metadata": {},
   "outputs": [],
   "source": [
    "#Check spending habits by region using spender flag\n",
    "df_merged.groupby('region')['spender_type'].value_counts()"
   ]
  },
  {
   "cell_type": "markdown",
   "id": "b3d1db50-fd4e-4268-88b9-0331a2ec0a61",
   "metadata": {},
   "source": [
    "- We can see there are many more low spenders than high spenders per region\n",
    "- the region with the most high spender's is the 'South' region with over 209K high spenders"
   ]
  },
  {
   "cell_type": "markdown",
   "id": "1052bf85-563d-4b04-af3e-1a2656f63ba2",
   "metadata": {},
   "source": [
    "## -"
   ]
  },
  {
   "cell_type": "markdown",
   "id": "b7cde184-fda4-446e-aca0-bcb548426a65",
   "metadata": {},
   "source": [
    "## 4. The Instacart CFO isn’t interested in customers who don’t generate much revenue for the app. Create an exclusion flag for low-activity customers (customers with less than 5 orders) and exclude them from the data. Make sure you export this sample."
   ]
  },
  {
   "cell_type": "markdown",
   "id": "e46df39a-46a3-4b2f-940c-0d1d7caf180f",
   "metadata": {},
   "source": [
    "- Create low and high activity customer flags based on max order of 5 or above"
   ]
  },
  {
   "cell_type": "code",
   "execution_count": 46,
   "id": "5d9281ab-9fdd-42cc-8042-6d1784745da2",
   "metadata": {},
   "outputs": [],
   "source": [
    "#Create new column value for low activity customer\n",
    "df_merged.loc[df_merged['max_order'] < 5, 'customer_activity'] = 'Low activity'\n",
    "\n",
    "#Create new column value for high activity customer\n",
    "df_merged.loc[df_merged['max_order'] >= 5, 'customer_activity'] = 'High activity'"
   ]
  },
  {
   "cell_type": "code",
   "execution_count": 64,
   "id": "3f4bacbc-d6a3-43d5-82cd-258d88a4decd",
   "metadata": {},
   "outputs": [
    {
     "data": {
      "text/plain": [
       "customer_activity\n",
       "High activity    30964564\n",
       "Low activity      1440295\n",
       "Name: count, dtype: int64"
      ]
     },
     "execution_count": 64,
     "metadata": {},
     "output_type": "execute_result"
    }
   ],
   "source": [
    "#Check count of rows for customer_activity flag\n",
    "df_merged['customer_activity'].value_counts(dropna = False)"
   ]
  },
  {
   "cell_type": "code",
   "execution_count": 48,
   "id": "a631990a-734f-4b0e-bc75-12925a829bf3",
   "metadata": {},
   "outputs": [],
   "source": [
    "#Create new dataframe using customer activity flag to EXCLUDE low activity customers\n",
    "df_high_activity_customers = df_merged[df_merged['customer_activity'] == 'High activity']"
   ]
  },
  {
   "cell_type": "code",
   "execution_count": 49,
   "id": "3dd45c42-a79a-449b-a5f5-903441ffa294",
   "metadata": {},
   "outputs": [
    {
     "data": {
      "text/plain": [
       "(30964564, 35)"
      ]
     },
     "execution_count": 49,
     "metadata": {},
     "output_type": "execute_result"
    }
   ],
   "source": [
    "#Check new dataframe row count\n",
    "df_high_activity_customers.shape"
   ]
  },
  {
   "cell_type": "markdown",
   "id": "75a486b0-f225-4c46-bb53-8fbae7ae991f",
   "metadata": {},
   "source": [
    "#### *New dataframe show correct number of rows, next step is exporting this sample*"
   ]
  },
  {
   "cell_type": "code",
   "execution_count": 50,
   "id": "44131811-b3cd-408c-9d72-34250ca9102e",
   "metadata": {},
   "outputs": [],
   "source": [
    "#Export sample as pickle file\n",
    "df_high_activity_customers.to_pickle(os.path.join(path, '02 Data', 'Prepared Data', 'high_activity_customers.pkl'))"
   ]
  },
  {
   "cell_type": "markdown",
   "id": "0b833485-e941-4039-99bc-b57f5825b749",
   "metadata": {},
   "source": [
    "## -"
   ]
  },
  {
   "cell_type": "markdown",
   "id": "7f70ffe9-fc89-4b5a-8f24-73d4aaecfcd5",
   "metadata": {},
   "source": [
    "## 5. The marketing and business strategy units at Instacart want to create more-relevant marketing strategies for different products and are, thus, curious about customer profiling in their database. Create a profiling variable based on age, income, certain goods in the “department_id” column, and number of dependents. You might also use the “orders_day_of_week” and “order_hour_of_day” columns if you can think of a way they would impact customer profiles. (Hint: As an example, try thinking of what characteristics would lead you to the profile “Single adult” or “Young parent.”)"
   ]
  },
  {
   "cell_type": "code",
   "execution_count": 51,
   "id": "1beeab5f-c775-4967-ba6f-baed0faab2ef",
   "metadata": {},
   "outputs": [
    {
     "data": {
      "text/html": [
       "<div>\n",
       "<style scoped>\n",
       "    .dataframe tbody tr th:only-of-type {\n",
       "        vertical-align: middle;\n",
       "    }\n",
       "\n",
       "    .dataframe tbody tr th {\n",
       "        vertical-align: top;\n",
       "    }\n",
       "\n",
       "    .dataframe thead th {\n",
       "        text-align: right;\n",
       "    }\n",
       "</style>\n",
       "<table border=\"1\" class=\"dataframe\">\n",
       "  <thead>\n",
       "    <tr style=\"text-align: right;\">\n",
       "      <th></th>\n",
       "      <th>number_of_dependants</th>\n",
       "      <th>age</th>\n",
       "      <th>income</th>\n",
       "    </tr>\n",
       "  </thead>\n",
       "  <tbody>\n",
       "    <tr>\n",
       "      <th>count</th>\n",
       "      <td>3.240486e+07</td>\n",
       "      <td>3.240486e+07</td>\n",
       "      <td>3.240486e+07</td>\n",
       "    </tr>\n",
       "    <tr>\n",
       "      <th>mean</th>\n",
       "      <td>1.501896e+00</td>\n",
       "      <td>4.946527e+01</td>\n",
       "      <td>9.943773e+04</td>\n",
       "    </tr>\n",
       "    <tr>\n",
       "      <th>std</th>\n",
       "      <td>1.118865e+00</td>\n",
       "      <td>1.848558e+01</td>\n",
       "      <td>4.305727e+04</td>\n",
       "    </tr>\n",
       "    <tr>\n",
       "      <th>min</th>\n",
       "      <td>0.000000e+00</td>\n",
       "      <td>1.800000e+01</td>\n",
       "      <td>2.590300e+04</td>\n",
       "    </tr>\n",
       "    <tr>\n",
       "      <th>25%</th>\n",
       "      <td>1.000000e+00</td>\n",
       "      <td>3.300000e+01</td>\n",
       "      <td>6.700400e+04</td>\n",
       "    </tr>\n",
       "    <tr>\n",
       "      <th>50%</th>\n",
       "      <td>2.000000e+00</td>\n",
       "      <td>4.900000e+01</td>\n",
       "      <td>9.661800e+04</td>\n",
       "    </tr>\n",
       "    <tr>\n",
       "      <th>75%</th>\n",
       "      <td>3.000000e+00</td>\n",
       "      <td>6.500000e+01</td>\n",
       "      <td>1.279120e+05</td>\n",
       "    </tr>\n",
       "    <tr>\n",
       "      <th>max</th>\n",
       "      <td>3.000000e+00</td>\n",
       "      <td>8.100000e+01</td>\n",
       "      <td>5.939010e+05</td>\n",
       "    </tr>\n",
       "  </tbody>\n",
       "</table>\n",
       "</div>"
      ],
      "text/plain": [
       "       number_of_dependants           age        income\n",
       "count          3.240486e+07  3.240486e+07  3.240486e+07\n",
       "mean           1.501896e+00  4.946527e+01  9.943773e+04\n",
       "std            1.118865e+00  1.848558e+01  4.305727e+04\n",
       "min            0.000000e+00  1.800000e+01  2.590300e+04\n",
       "25%            1.000000e+00  3.300000e+01  6.700400e+04\n",
       "50%            2.000000e+00  4.900000e+01  9.661800e+04\n",
       "75%            3.000000e+00  6.500000e+01  1.279120e+05\n",
       "max            3.000000e+00  8.100000e+01  5.939010e+05"
      ]
     },
     "execution_count": 51,
     "metadata": {},
     "output_type": "execute_result"
    }
   ],
   "source": [
    "#Describe some relevant columns\n",
    "df_merged[['number_of_dependants','age','income']].describe()"
   ]
  },
  {
   "cell_type": "code",
   "execution_count": 52,
   "id": "335767da-7374-4dc4-aeaa-de58a05ae574",
   "metadata": {},
   "outputs": [
    {
     "data": {
      "text/plain": [
       "96618.0"
      ]
     },
     "execution_count": 52,
     "metadata": {},
     "output_type": "execute_result"
    }
   ],
   "source": [
    "#median household income\n",
    "df_merged['income'].median()"
   ]
  },
  {
   "cell_type": "code",
   "execution_count": 53,
   "id": "2f313e04-d31f-4985-80a2-32e5ab8ae80d",
   "metadata": {},
   "outputs": [
    {
     "data": {
      "text/plain": [
       "49.0"
      ]
     },
     "execution_count": 53,
     "metadata": {},
     "output_type": "execute_result"
    }
   ],
   "source": [
    "#Median age of customer\n",
    "df_merged['age'].median()"
   ]
  },
  {
   "cell_type": "code",
   "execution_count": 54,
   "id": "d785b264-640b-44e5-8e55-4c61ac9a423c",
   "metadata": {},
   "outputs": [],
   "source": [
    "#Customer segment 1 - Parent income classes\n",
    "\n",
    "#High Income\n",
    "df_merged.loc[(df_merged['income'] >= 120000) & (df_merged['number_of_dependants'] >= 1), 'parent_income_class'] = 'High Income Parent'\n",
    "\n",
    "#Middle Class\n",
    "df_merged.loc[(df_merged['income'] < 120000) & \n",
    "            (df_merged['income'] >= 96000) &  \n",
    "            (df_merged['number_of_dependants'] >= 1), 'parent_income_class'] = 'Middle Class Parent'\n",
    "\n",
    "#Low Income\n",
    "df_merged.loc[(df_merged['income'] <96000) & (df_merged['number_of_dependants'] >= 1), 'parent_income_class'] = 'Low Income Parent'\n",
    "\n",
    "#No kids\n",
    "df_merged.loc[(df_merged['number_of_dependants'] <1), 'parent_income_class'] = 'No kids'"
   ]
  },
  {
   "cell_type": "code",
   "execution_count": 55,
   "id": "6e51f3fa-3d69-40f1-b0ae-b1edb6f68c0f",
   "metadata": {},
   "outputs": [
    {
     "data": {
      "text/plain": [
       "parent_income_class\n",
       "Low Income Parent      11967754\n",
       "No kids                 8097503\n",
       "High Income Parent      7152591\n",
       "Middle Class Parent     5187011\n",
       "Name: count, dtype: int64"
      ]
     },
     "execution_count": 55,
     "metadata": {},
     "output_type": "execute_result"
    }
   ],
   "source": [
    "#Check new segment 1 output\n",
    "df_merged['parent_income_class'].value_counts()"
   ]
  },
  {
   "cell_type": "code",
   "execution_count": 56,
   "id": "2f9fbb6b-582c-4e14-bc16-74c70837b31b",
   "metadata": {},
   "outputs": [],
   "source": [
    "#Customer segment 2 - Income level by age (over or under 40)\n",
    "\n",
    "#High Income Young Adult\n",
    "df_merged.loc[(df_merged['age'] < 40) & (df_merged['income'] >= 120000), 'income_age_status'] = 'High Income Young Adult'\n",
    "\n",
    "#High Income Older Adult\n",
    "df_merged.loc[(df_merged['age'] >= 40) & (df_merged['income'] >= 120000), 'income_age_status'] = 'High Income Older Adult'\n",
    "\n",
    "#Middle Class Young Adult\n",
    "df_merged.loc[(df_merged['age'] < 40) & (df_merged['income'] < 120000) & \n",
    "(df_merged['income'] >=96000), 'income_age_status'] = 'Middle Class Young Adult'\n",
    "\n",
    "#Middle Class Older Adult\n",
    "df_merged.loc[(df_merged['age'] >= 40) & (df_merged['income'] < 120000) & \n",
    "(df_merged['income'] >=96000), 'income_age_status'] = 'Middle Class Older Adult'\n",
    "\n",
    "#Low Income Young Adult\n",
    "df_merged.loc[(df_merged['age'] < 40) & (df_merged['income'] <96000), 'income_age_status'] = 'Low Income Young Adult'\n",
    "\n",
    "#Low Income Older Adult\n",
    "df_merged.loc[(df_merged['age'] > 40) & (df_merged['income'] <96000), 'income_age_status'] = 'Low Income Older Adult'"
   ]
  },
  {
   "cell_type": "code",
   "execution_count": 63,
   "id": "fa0ed9fd-c78f-4ca0-99f0-f1cab87a7412",
   "metadata": {},
   "outputs": [
    {
     "data": {
      "text/plain": [
       "income_age_status\n",
       "Low Income Young Adult      10175511\n",
       "High Income Older Adult      9439522\n",
       "Middle Class Older Adult     6043067\n",
       "Low Income Older Adult       5294738\n",
       "Middle Class Young Adult      856833\n",
       "High Income Young Adult       131848\n",
       "Name: count, dtype: int64"
      ]
     },
     "execution_count": 63,
     "metadata": {},
     "output_type": "execute_result"
    }
   ],
   "source": [
    "#Check new segment 2 output\n",
    "df_merged['income_age_status'].value_counts()"
   ]
  },
  {
   "cell_type": "markdown",
   "id": "61339b77-1f08-4ac2-b712-9795e3e17b49",
   "metadata": {},
   "source": [
    "## -"
   ]
  },
  {
   "cell_type": "markdown",
   "id": "f4b07bc7-f773-4587-9e5a-496a62f6f77d",
   "metadata": {},
   "source": [
    "## 6. Create an appropriate visualization to show the distribution of profiles."
   ]
  },
  {
   "cell_type": "code",
   "execution_count": 62,
   "id": "5525548e-765f-4407-9f20-4021d41f70b1",
   "metadata": {},
   "outputs": [
    {
     "data": {
      "image/png": "[encoded data removed]",
      "text/plain": [
       "<Figure size 640x480 with 1 Axes>"
      ]
     },
     "metadata": {},
     "output_type": "display_data"
    }
   ],
   "source": [
    "#Create bar graph for customer segment 1 (parent income class)\n",
    "bar_1 = df_merged['parent_income_class'].value_counts().plot.bar()"
   ]
  },
  {
   "cell_type": "code",
   "execution_count": 61,
   "id": "e7ee2953-7953-4e5b-b25e-1bf60fabcab0",
   "metadata": {},
   "outputs": [
    {
     "data": {
      "image/png": "[encoded data removed]",
      "text/plain": [
       "<Figure size 640x480 with 1 Axes>"
      ]
     },
     "metadata": {},
     "output_type": "display_data"
    }
   ],
   "source": [
    "#Create bar graph for customer segment 2 (income and age status)\n",
    "bar_2 = df_merged['income_age_status'].value_counts().plot.bar(color = ['blue', 'green', 'green','green', 'blue', 'blue'])"
   ]
  },
  {
   "cell_type": "markdown",
   "id": "2695a30d-c0e8-462e-a084-731efa7f35d8",
   "metadata": {},
   "source": [
    "## -"
   ]
  },
  {
   "cell_type": "markdown",
   "id": "bf4aeb2c-52d7-4ca6-8ea1-1e405d5b1b3e",
   "metadata": {},
   "source": [
    "## 7. Aggregate the max, mean, and min variables on a customer-profile level for usage frequency and expenditure."
   ]
  },
  {
   "cell_type": "code",
   "execution_count": 65,
   "id": "f6aaa95c-c2db-45f5-88a9-10b57a002b78",
   "metadata": {},
   "outputs": [
    {
     "data": {
      "text/html": [
       "<div>\n",
       "<style scoped>\n",
       "    .dataframe tbody tr th:only-of-type {\n",
       "        vertical-align: middle;\n",
       "    }\n",
       "\n",
       "    .dataframe tbody tr th {\n",
       "        vertical-align: top;\n",
       "    }\n",
       "\n",
       "    .dataframe thead tr th {\n",
       "        text-align: left;\n",
       "    }\n",
       "\n",
       "    .dataframe thead tr:last-of-type th {\n",
       "        text-align: right;\n",
       "    }\n",
       "</style>\n",
       "<table border=\"1\" class=\"dataframe\">\n",
       "  <thead>\n",
       "    <tr>\n",
       "      <th></th>\n",
       "      <th colspan=\"3\" halign=\"left\">prices</th>\n",
       "    </tr>\n",
       "    <tr>\n",
       "      <th></th>\n",
       "      <th>mean</th>\n",
       "      <th>min</th>\n",
       "      <th>max</th>\n",
       "    </tr>\n",
       "    <tr>\n",
       "      <th>parent_income_class</th>\n",
       "      <th></th>\n",
       "      <th></th>\n",
       "      <th></th>\n",
       "    </tr>\n",
       "  </thead>\n",
       "  <tbody>\n",
       "    <tr>\n",
       "      <th>High Income Parent</th>\n",
       "      <td>20.112282</td>\n",
       "      <td>1.0</td>\n",
       "      <td>99999.0</td>\n",
       "    </tr>\n",
       "    <tr>\n",
       "      <th>Low Income Parent</th>\n",
       "      <td>8.044846</td>\n",
       "      <td>1.0</td>\n",
       "      <td>99999.0</td>\n",
       "    </tr>\n",
       "    <tr>\n",
       "      <th>Middle Class Parent</th>\n",
       "      <td>9.613877</td>\n",
       "      <td>1.0</td>\n",
       "      <td>99999.0</td>\n",
       "    </tr>\n",
       "    <tr>\n",
       "      <th>No kids</th>\n",
       "      <td>12.129243</td>\n",
       "      <td>1.0</td>\n",
       "      <td>99999.0</td>\n",
       "    </tr>\n",
       "  </tbody>\n",
       "</table>\n",
       "</div>"
      ],
      "text/plain": [
       "                        prices              \n",
       "                          mean  min      max\n",
       "parent_income_class                         \n",
       "High Income Parent   20.112282  1.0  99999.0\n",
       "Low Income Parent     8.044846  1.0  99999.0\n",
       "Middle Class Parent   9.613877  1.0  99999.0\n",
       "No kids              12.129243  1.0  99999.0"
      ]
     },
     "execution_count": 65,
     "metadata": {},
     "output_type": "execute_result"
    }
   ],
   "source": [
    "#Aggreagated customer segment 1 (parent income class), by expenditure\n",
    "df_merged.groupby('parent_income_class').agg({'prices': ['mean','min','max']})"
   ]
  },
  {
   "cell_type": "code",
   "execution_count": 66,
   "id": "8eea1279-7fe2-4d04-9be9-5ed3fd6a3686",
   "metadata": {},
   "outputs": [],
   "source": [
    "#Remove outlier max prices\n",
    "df_merged.loc[df_merged['prices'] > 100] = np.nan"
   ]
  },
  {
   "cell_type": "code",
   "execution_count": 67,
   "id": "cd6cacf7-5b38-429e-8a6c-88fa3c49d163",
   "metadata": {},
   "outputs": [
    {
     "data": {
      "text/html": [
       "<div>\n",
       "<style scoped>\n",
       "    .dataframe tbody tr th:only-of-type {\n",
       "        vertical-align: middle;\n",
       "    }\n",
       "\n",
       "    .dataframe tbody tr th {\n",
       "        vertical-align: top;\n",
       "    }\n",
       "\n",
       "    .dataframe thead tr th {\n",
       "        text-align: left;\n",
       "    }\n",
       "\n",
       "    .dataframe thead tr:last-of-type th {\n",
       "        text-align: right;\n",
       "    }\n",
       "</style>\n",
       "<table border=\"1\" class=\"dataframe\">\n",
       "  <thead>\n",
       "    <tr>\n",
       "      <th></th>\n",
       "      <th colspan=\"3\" halign=\"left\">prices</th>\n",
       "    </tr>\n",
       "    <tr>\n",
       "      <th></th>\n",
       "      <th>mean</th>\n",
       "      <th>min</th>\n",
       "      <th>max</th>\n",
       "    </tr>\n",
       "    <tr>\n",
       "      <th>parent_income_class</th>\n",
       "      <th></th>\n",
       "      <th></th>\n",
       "      <th></th>\n",
       "    </tr>\n",
       "  </thead>\n",
       "  <tbody>\n",
       "    <tr>\n",
       "      <th>High Income Parent</th>\n",
       "      <td>7.960458</td>\n",
       "      <td>1.0</td>\n",
       "      <td>25.0</td>\n",
       "    </tr>\n",
       "    <tr>\n",
       "      <th>Low Income Parent</th>\n",
       "      <td>7.615892</td>\n",
       "      <td>1.0</td>\n",
       "      <td>25.0</td>\n",
       "    </tr>\n",
       "    <tr>\n",
       "      <th>Middle Class Parent</th>\n",
       "      <td>7.963024</td>\n",
       "      <td>1.0</td>\n",
       "      <td>25.0</td>\n",
       "    </tr>\n",
       "    <tr>\n",
       "      <th>No kids</th>\n",
       "      <td>7.789975</td>\n",
       "      <td>1.0</td>\n",
       "      <td>25.0</td>\n",
       "    </tr>\n",
       "  </tbody>\n",
       "</table>\n",
       "</div>"
      ],
      "text/plain": [
       "                       prices           \n",
       "                         mean  min   max\n",
       "parent_income_class                     \n",
       "High Income Parent   7.960458  1.0  25.0\n",
       "Low Income Parent    7.615892  1.0  25.0\n",
       "Middle Class Parent  7.963024  1.0  25.0\n",
       "No kids              7.789975  1.0  25.0"
      ]
     },
     "execution_count": 67,
     "metadata": {},
     "output_type": "execute_result"
    }
   ],
   "source": [
    "#Rerun\n",
    "#Aggreagated customer segment 1 (parent income class), by expenditure\n",
    "df_merged.groupby('parent_income_class').agg({'prices': ['mean','min','max']})"
   ]
  },
  {
   "cell_type": "code",
   "execution_count": 68,
   "id": "19d05b43-87c6-49ef-b527-22a29301a874",
   "metadata": {},
   "outputs": [
    {
     "data": {
      "text/html": [
       "<div>\n",
       "<style scoped>\n",
       "    .dataframe tbody tr th:only-of-type {\n",
       "        vertical-align: middle;\n",
       "    }\n",
       "\n",
       "    .dataframe tbody tr th {\n",
       "        vertical-align: top;\n",
       "    }\n",
       "\n",
       "    .dataframe thead tr th {\n",
       "        text-align: left;\n",
       "    }\n",
       "\n",
       "    .dataframe thead tr:last-of-type th {\n",
       "        text-align: right;\n",
       "    }\n",
       "</style>\n",
       "<table border=\"1\" class=\"dataframe\">\n",
       "  <thead>\n",
       "    <tr>\n",
       "      <th></th>\n",
       "      <th colspan=\"3\" halign=\"left\">prices</th>\n",
       "    </tr>\n",
       "    <tr>\n",
       "      <th></th>\n",
       "      <th>mean</th>\n",
       "      <th>min</th>\n",
       "      <th>max</th>\n",
       "    </tr>\n",
       "    <tr>\n",
       "      <th>income_age_status</th>\n",
       "      <th></th>\n",
       "      <th></th>\n",
       "      <th></th>\n",
       "    </tr>\n",
       "  </thead>\n",
       "  <tbody>\n",
       "    <tr>\n",
       "      <th>High Income Older Adult</th>\n",
       "      <td>7.959974</td>\n",
       "      <td>1.0</td>\n",
       "      <td>25.0</td>\n",
       "    </tr>\n",
       "    <tr>\n",
       "      <th>High Income Young Adult</th>\n",
       "      <td>7.815447</td>\n",
       "      <td>1.0</td>\n",
       "      <td>25.0</td>\n",
       "    </tr>\n",
       "    <tr>\n",
       "      <th>Low Income Older Adult</th>\n",
       "      <td>7.300382</td>\n",
       "      <td>1.0</td>\n",
       "      <td>25.0</td>\n",
       "    </tr>\n",
       "    <tr>\n",
       "      <th>Low Income Young Adult</th>\n",
       "      <td>7.771446</td>\n",
       "      <td>1.0</td>\n",
       "      <td>25.0</td>\n",
       "    </tr>\n",
       "    <tr>\n",
       "      <th>Middle Class Older Adult</th>\n",
       "      <td>7.967044</td>\n",
       "      <td>1.0</td>\n",
       "      <td>25.0</td>\n",
       "    </tr>\n",
       "    <tr>\n",
       "      <th>Middle Class Young Adult</th>\n",
       "      <td>7.951455</td>\n",
       "      <td>1.0</td>\n",
       "      <td>25.0</td>\n",
       "    </tr>\n",
       "  </tbody>\n",
       "</table>\n",
       "</div>"
      ],
      "text/plain": [
       "                            prices           \n",
       "                              mean  min   max\n",
       "income_age_status                            \n",
       "High Income Older Adult   7.959974  1.0  25.0\n",
       "High Income Young Adult   7.815447  1.0  25.0\n",
       "Low Income Older Adult    7.300382  1.0  25.0\n",
       "Low Income Young Adult    7.771446  1.0  25.0\n",
       "Middle Class Older Adult  7.967044  1.0  25.0\n",
       "Middle Class Young Adult  7.951455  1.0  25.0"
      ]
     },
     "execution_count": 68,
     "metadata": {},
     "output_type": "execute_result"
    }
   ],
   "source": [
    "#Aggreagated customer segment 2 (age income status), by expenditure\n",
    "df_merged.groupby('income_age_status').agg({'prices': ['mean','min','max']})"
   ]
  },
  {
   "cell_type": "code",
   "execution_count": 69,
   "id": "ba19a08d-a0a4-446f-975e-7c095961de8f",
   "metadata": {},
   "outputs": [
    {
     "data": {
      "text/html": [
       "<div>\n",
       "<style scoped>\n",
       "    .dataframe tbody tr th:only-of-type {\n",
       "        vertical-align: middle;\n",
       "    }\n",
       "\n",
       "    .dataframe tbody tr th {\n",
       "        vertical-align: top;\n",
       "    }\n",
       "\n",
       "    .dataframe thead tr th {\n",
       "        text-align: left;\n",
       "    }\n",
       "\n",
       "    .dataframe thead tr:last-of-type th {\n",
       "        text-align: right;\n",
       "    }\n",
       "</style>\n",
       "<table border=\"1\" class=\"dataframe\">\n",
       "  <thead>\n",
       "    <tr>\n",
       "      <th></th>\n",
       "      <th colspan=\"3\" halign=\"left\">order_number</th>\n",
       "    </tr>\n",
       "    <tr>\n",
       "      <th></th>\n",
       "      <th>mean</th>\n",
       "      <th>min</th>\n",
       "      <th>max</th>\n",
       "    </tr>\n",
       "    <tr>\n",
       "      <th>parent_income_class</th>\n",
       "      <th></th>\n",
       "      <th></th>\n",
       "      <th></th>\n",
       "    </tr>\n",
       "  </thead>\n",
       "  <tbody>\n",
       "    <tr>\n",
       "      <th>High Income Parent</th>\n",
       "      <td>17.160725</td>\n",
       "      <td>1.0</td>\n",
       "      <td>99.0</td>\n",
       "    </tr>\n",
       "    <tr>\n",
       "      <th>Low Income Parent</th>\n",
       "      <td>17.015673</td>\n",
       "      <td>1.0</td>\n",
       "      <td>99.0</td>\n",
       "    </tr>\n",
       "    <tr>\n",
       "      <th>Middle Class Parent</th>\n",
       "      <td>17.219472</td>\n",
       "      <td>1.0</td>\n",
       "      <td>99.0</td>\n",
       "    </tr>\n",
       "    <tr>\n",
       "      <th>No kids</th>\n",
       "      <td>17.264951</td>\n",
       "      <td>1.0</td>\n",
       "      <td>99.0</td>\n",
       "    </tr>\n",
       "  </tbody>\n",
       "</table>\n",
       "</div>"
      ],
      "text/plain": [
       "                    order_number           \n",
       "                            mean  min   max\n",
       "parent_income_class                        \n",
       "High Income Parent     17.160725  1.0  99.0\n",
       "Low Income Parent      17.015673  1.0  99.0\n",
       "Middle Class Parent    17.219472  1.0  99.0\n",
       "No kids                17.264951  1.0  99.0"
      ]
     },
     "execution_count": 69,
     "metadata": {},
     "output_type": "execute_result"
    }
   ],
   "source": [
    "#Aggreagated customer segment 1 (parent income class), by usage\n",
    "df_merged.groupby('parent_income_class').agg({'order_number': ['mean','min','max']})"
   ]
  },
  {
   "cell_type": "code",
   "execution_count": 70,
   "id": "844baa14-e226-49ca-ad19-ffe26dbf825e",
   "metadata": {},
   "outputs": [
    {
     "data": {
      "text/html": [
       "<div>\n",
       "<style scoped>\n",
       "    .dataframe tbody tr th:only-of-type {\n",
       "        vertical-align: middle;\n",
       "    }\n",
       "\n",
       "    .dataframe tbody tr th {\n",
       "        vertical-align: top;\n",
       "    }\n",
       "\n",
       "    .dataframe thead tr th {\n",
       "        text-align: left;\n",
       "    }\n",
       "\n",
       "    .dataframe thead tr:last-of-type th {\n",
       "        text-align: right;\n",
       "    }\n",
       "</style>\n",
       "<table border=\"1\" class=\"dataframe\">\n",
       "  <thead>\n",
       "    <tr>\n",
       "      <th></th>\n",
       "      <th colspan=\"3\" halign=\"left\">order_number</th>\n",
       "    </tr>\n",
       "    <tr>\n",
       "      <th></th>\n",
       "      <th>mean</th>\n",
       "      <th>min</th>\n",
       "      <th>max</th>\n",
       "    </tr>\n",
       "    <tr>\n",
       "      <th>income_age_status</th>\n",
       "      <th></th>\n",
       "      <th></th>\n",
       "      <th></th>\n",
       "    </tr>\n",
       "  </thead>\n",
       "  <tbody>\n",
       "    <tr>\n",
       "      <th>High Income Older Adult</th>\n",
       "      <td>17.272420</td>\n",
       "      <td>1.0</td>\n",
       "      <td>99.0</td>\n",
       "    </tr>\n",
       "    <tr>\n",
       "      <th>High Income Young Adult</th>\n",
       "      <td>19.766700</td>\n",
       "      <td>1.0</td>\n",
       "      <td>99.0</td>\n",
       "    </tr>\n",
       "    <tr>\n",
       "      <th>Low Income Older Adult</th>\n",
       "      <td>16.706286</td>\n",
       "      <td>1.0</td>\n",
       "      <td>99.0</td>\n",
       "    </tr>\n",
       "    <tr>\n",
       "      <th>Low Income Young Adult</th>\n",
       "      <td>17.187882</td>\n",
       "      <td>1.0</td>\n",
       "      <td>99.0</td>\n",
       "    </tr>\n",
       "    <tr>\n",
       "      <th>Middle Class Older Adult</th>\n",
       "      <td>17.276679</td>\n",
       "      <td>1.0</td>\n",
       "      <td>99.0</td>\n",
       "    </tr>\n",
       "    <tr>\n",
       "      <th>Middle Class Young Adult</th>\n",
       "      <td>16.558580</td>\n",
       "      <td>1.0</td>\n",
       "      <td>99.0</td>\n",
       "    </tr>\n",
       "  </tbody>\n",
       "</table>\n",
       "</div>"
      ],
      "text/plain": [
       "                         order_number           \n",
       "                                 mean  min   max\n",
       "income_age_status                               \n",
       "High Income Older Adult     17.272420  1.0  99.0\n",
       "High Income Young Adult     19.766700  1.0  99.0\n",
       "Low Income Older Adult      16.706286  1.0  99.0\n",
       "Low Income Young Adult      17.187882  1.0  99.0\n",
       "Middle Class Older Adult    17.276679  1.0  99.0\n",
       "Middle Class Young Adult    16.558580  1.0  99.0"
      ]
     },
     "execution_count": 70,
     "metadata": {},
     "output_type": "execute_result"
    }
   ],
   "source": [
    "#Aggreagated customer segment 2 (age income status), by usage\n",
    "df_merged.groupby('income_age_status').agg({'order_number': ['mean','min','max']})"
   ]
  },
  {
   "cell_type": "markdown",
   "id": "d8c0726b-f0b6-49a2-9820-c56843615e9c",
   "metadata": {},
   "source": [
    "## -"
   ]
  },
  {
   "cell_type": "markdown",
   "id": "fe721466-7fd7-42d6-99d2-24c64ecd52c9",
   "metadata": {},
   "source": [
    "## 8. Compare your customer profiles with regions and departments. Can you identify a link between them? Customers may demonstrate different behaviors across regions, which could make this information important."
   ]
  },
  {
   "cell_type": "code",
   "execution_count": 71,
   "id": "a30d52d8-ea2e-462e-bf13-10fa45e4e302",
   "metadata": {},
   "outputs": [
    {
     "data": {
      "text/plain": [
       "region     parent_income_class\n",
       "Midwest    Low Income Parent      2757079\n",
       "           No kids                1904908\n",
       "           High Income Parent     1698839\n",
       "           Middle Class Parent    1235239\n",
       "Northeast  Low Income Parent      2090591\n",
       "           No kids                1418086\n",
       "           High Income Parent     1281340\n",
       "           Middle Class Parent     931875\n",
       "South      Low Income Parent      4045158\n",
       "           No kids                2701219\n",
       "           High Income Parent     2350946\n",
       "           Middle Class Parent    1692773\n",
       "West       Low Income Parent      3074747\n",
       "           No kids                2072062\n",
       "           High Income Parent     1818081\n",
       "           Middle Class Parent    1326789\n",
       "Name: count, dtype: int64"
      ]
     },
     "execution_count": 71,
     "metadata": {},
     "output_type": "execute_result"
    }
   ],
   "source": [
    "#Compare customer segment 1 with regions\n",
    "df_merged.groupby('region')['parent_income_class'].value_counts()"
   ]
  },
  {
   "cell_type": "code",
   "execution_count": 84,
   "id": "59c483f5-ae41-48e8-8a46-02785d974ae0",
   "metadata": {},
   "outputs": [
    {
     "data": {
      "text/plain": [
       "department_id  parent_income_class\n",
       "1.0            Low Income Parent      816442\n",
       "               No kids                557160\n",
       "               High Income Parent     502476\n",
       "               Middle Class Parent    358665\n",
       "2.0            Low Income Parent       13311\n",
       "                                       ...  \n",
       "20.0           Middle Class Parent    169640\n",
       "21.0           Low Income Parent       25471\n",
       "               No kids                 17088\n",
       "               High Income Parent      15427\n",
       "               Middle Class Parent     11159\n",
       "Name: count, Length: 84, dtype: int64"
      ]
     },
     "execution_count": 84,
     "metadata": {},
     "output_type": "execute_result"
    }
   ],
   "source": [
    "#Compare customer segment 1 with departments\n",
    "df_merged.groupby('department_id')['parent_income_class'].value_counts()"
   ]
  },
  {
   "cell_type": "code",
   "execution_count": 86,
   "id": "9da0da09-8928-4be7-8ab7-76093fc502bf",
   "metadata": {},
   "outputs": [
    {
     "data": {
      "text/plain": [
       "region     income_age_status       \n",
       "Midwest    Low Income Young Adult      2364067\n",
       "           High Income Older Adult     2248501\n",
       "           Middle Class Older Adult    1435040\n",
       "           Low Income Older Adult      1208175\n",
       "           Middle Class Young Adult     206646\n",
       "           High Income Young Adult       29985\n",
       "Northeast  Low Income Young Adult      1791094\n",
       "           High Income Older Adult     1678293\n",
       "           Middle Class Older Adult    1072368\n",
       "           Low Income Older Adult       930403\n",
       "           Middle Class Young Adult     145176\n",
       "           High Income Young Adult       22848\n",
       "South      Low Income Young Adult      3434111\n",
       "           High Income Older Adult     3104647\n",
       "           Middle Class Older Adult    1965810\n",
       "           Low Income Older Adult      1785336\n",
       "           Middle Class Young Adult     292546\n",
       "           High Income Young Adult       48378\n",
       "West       Low Income Young Adult      2586112\n",
       "           High Income Older Adult     2405005\n",
       "           Middle Class Older Adult    1569636\n",
       "           Low Income Older Adult      1370731\n",
       "           Middle Class Young Adult     212220\n",
       "           High Income Young Adult       29265\n",
       "Name: count, dtype: int64"
      ]
     },
     "execution_count": 86,
     "metadata": {},
     "output_type": "execute_result"
    }
   ],
   "source": [
    "#Compare customer segment 2 with regions\n",
    "df_merged.groupby('region')['income_age_status'].value_counts()"
   ]
  },
  {
   "cell_type": "code",
   "execution_count": 87,
   "id": "980152f6-cb7c-418b-9866-a3abfa0a3b3d",
   "metadata": {},
   "outputs": [
    {
     "data": {
      "text/plain": [
       "department_id  income_age_status       \n",
       "1.0            Low Income Young Adult      696799\n",
       "               High Income Older Adult     661539\n",
       "               Middle Class Older Adult    418556\n",
       "               Low Income Older Adult      356329\n",
       "               Middle Class Young Adult     58230\n",
       "                                            ...  \n",
       "21.0           High Income Older Adult      20258\n",
       "               Middle Class Older Adult     12612\n",
       "               Low Income Older Adult       11134\n",
       "               Middle Class Young Adult      1847\n",
       "               High Income Young Adult        186\n",
       "Name: count, Length: 126, dtype: int64"
      ]
     },
     "execution_count": 87,
     "metadata": {},
     "output_type": "execute_result"
    }
   ],
   "source": [
    "#Compare customer segment 2 with departments\n",
    "df_merged.groupby('department_id')['income_age_status'].value_counts()"
   ]
  },
  {
   "cell_type": "markdown",
   "id": "e40b7c86-80c5-4267-b070-bd5aefe18c63",
   "metadata": {},
   "source": [
    "## -"
   ]
  },
  {
   "cell_type": "markdown",
   "id": "536079d3-8c2b-47c0-a524-6bc3e3e45432",
   "metadata": {},
   "source": [
    "## 9. Produce suitable charts to illustrate your results and export them in your project folder."
   ]
  },
  {
   "cell_type": "code",
   "execution_count": 99,
   "id": "eee5253a-c636-46fc-b6e2-eac31f944d64",
   "metadata": {},
   "outputs": [],
   "source": [
    "#Crosstab for bar chart 1\n",
    "cross_region_parent_income_class = pd.crosstab(df_merged['parent_income_class'],df_merged['region'])"
   ]
  },
  {
   "cell_type": "code",
   "execution_count": 103,
   "id": "b1672a05-dcb7-4ec9-9e00-9fc8406ccdbe",
   "metadata": {},
   "outputs": [
    {
     "data": {
      "image/png": "[encoded data removed]",
      "text/plain": [
       "<Figure size 640x480 with 1 Axes>"
      ]
     },
     "metadata": {},
     "output_type": "display_data"
    }
   ],
   "source": [
    "##Bar chart showing parent income class by region\n",
    "region_bar_1 = cross_region_parent_income_class.plot.barh()"
   ]
  },
  {
   "cell_type": "code",
   "execution_count": 98,
   "id": "cf3bcbbe-4e8c-4d0d-8f25-26dc29f76ea5",
   "metadata": {},
   "outputs": [],
   "source": [
    "#Crosstab for bar chart 2\n",
    "cross_region_income_age_status = pd.crosstab(df_merged['income_age_status'],df_merged['region'])"
   ]
  },
  {
   "cell_type": "code",
   "execution_count": 105,
   "id": "06e544b4-9bb6-44c3-869d-525fe36a6e66",
   "metadata": {},
   "outputs": [
    {
     "data": {
      "image/png": "[encoded data removed]",
      "text/plain": [
       "<Figure size 640x480 with 1 Axes>"
      ]
     },
     "metadata": {},
     "output_type": "display_data"
    }
   ],
   "source": [
    "#Bar chart for  income and age status by region\n",
    "region_bar_2 = cross_region_income_age_status.plot.barh()"
   ]
  },
  {
   "cell_type": "code",
   "execution_count": 104,
   "id": "115381c8-d3db-460c-ae8c-662e82d88ff2",
   "metadata": {},
   "outputs": [],
   "source": [
    "#Crosstab for bar chart 3\n",
    "cross_region_spender_type = pd.crosstab(df_merged['spender_type'], df_merged['region'])"
   ]
  },
  {
   "cell_type": "code",
   "execution_count": 106,
   "id": "41f8a20a-57cf-48e7-a452-2482aa28a2ab",
   "metadata": {},
   "outputs": [
    {
     "data": {
      "image/png": "[encoded data removed]",
      "text/plain": [
       "<Figure size 640x480 with 1 Axes>"
      ]
     },
     "metadata": {},
     "output_type": "display_data"
    }
   ],
   "source": [
    "#Bar chart for spender type by region\n",
    "region_bar_3 = cross_region_spender_type.plot.bar()"
   ]
  },
  {
   "cell_type": "markdown",
   "id": "e1771678-06e0-456f-8b7c-6ae20249eeb0",
   "metadata": {},
   "source": [
    "### *Export and save all visualizations in project folder*"
   ]
  },
  {
   "cell_type": "code",
   "execution_count": 107,
   "id": "d8cd4c14-3dbd-4bdb-8bf6-71c5d7bb2d1d",
   "metadata": {},
   "outputs": [],
   "source": [
    "#Save region bar 1\n",
    "region_bar_1.figure.savefig(os.path.join(path, '04 Analysis', 'Visualizations', 'cross_region_parent_income_class.png'))"
   ]
  },
  {
   "cell_type": "code",
   "execution_count": 108,
   "id": "ca502401-66e2-40c2-b4b1-527519ca41c3",
   "metadata": {},
   "outputs": [],
   "source": [
    "#Save region bar 2\n",
    "region_bar_2.figure.savefig(os.path.join(path, '04 Analysis','Visualizations','cross_region_income_age_status.png'))"
   ]
  },
  {
   "cell_type": "code",
   "execution_count": 109,
   "id": "714b177d-4eab-4ee2-b2f8-f7764d34bc8e",
   "metadata": {},
   "outputs": [],
   "source": [
    "#Save region bar 3\n",
    "region_bar_3.figure.savefig(os.path.join(path, '04 Analysis', 'Visualizations', 'cross_region_spender_type.png'))"
   ]
  },
  {
   "cell_type": "code",
   "execution_count": 113,
   "id": "3d6a873d-f816-468d-beda-84cb17886bd7",
   "metadata": {},
   "outputs": [],
   "source": [
    "#Save bar 1 (From step 6 - parent income customer segment)\n",
    "bar_1.figure.savefig(os.path.join(path, '04 Analysis' ,'Visualizations','parent_income_class.png'))"
   ]
  },
  {
   "cell_type": "code",
   "execution_count": 112,
   "id": "81652aa2-d78e-46d7-b10a-2844d73aa717",
   "metadata": {},
   "outputs": [],
   "source": [
    "#Save bar 2(From step 6 - income age customer segment)\n",
    "bar_2.figure.savefig(os.path.join(path, '04 Analysis','Visualizations','income_age_status.png'))"
   ]
  },
  {
   "cell_type": "markdown",
   "id": "52c14693-acd5-455f-a90c-35ac44bc90da",
   "metadata": {},
   "source": [
    "## -"
   ]
  },
  {
   "cell_type": "markdown",
   "id": "46deb4b2-2dbf-4f3e-872e-3189df783395",
   "metadata": {},
   "source": [
    "## 10. Tidy up your script, export your final data set, and save your notebook."
   ]
  },
  {
   "cell_type": "markdown",
   "id": "29d05c13-0469-47a7-89a2-3fc6bbfe1516",
   "metadata": {},
   "source": [
    "### *Export and save final table as PKL file*"
   ]
  },
  {
   "cell_type": "code",
   "execution_count": 114,
   "id": "ea32edb7-7e5f-4101-a2c1-6643a005ef1e",
   "metadata": {},
   "outputs": [],
   "source": [
    "df_merged.to_pickle(os.path.join(path, '02 Data','Prepared Data', 'instacart_final.pkl'))"
   ]
  }
 ],
 "metadata": {
  "kernelspec": {
   "display_name": "Python [conda env:base] *",
   "language": "python",
   "name": "conda-base-py"
  },
  "language_info": {
   "codemirror_mode": {
    "name": "ipython",
    "version": 3
   },
   "file_extension": ".py",
   "mimetype": "text/x-python",
   "name": "python",
   "nbconvert_exporter": "python",
   "pygments_lexer": "ipython3",
   "version": "3.13.5"
  }
 },
 "nbformat": 4,
 "nbformat_minor": 5
}
