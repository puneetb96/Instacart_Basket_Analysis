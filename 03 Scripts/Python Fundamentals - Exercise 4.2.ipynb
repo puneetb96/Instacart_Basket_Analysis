{
 "cells": [
  {
   "cell_type": "markdown",
   "id": "1a967cae-2ceb-4066-8a0a-3c85b1651ddd",
   "metadata": {},
   "source": [
    "## Importing Libraries"
   ]
  },
  {
   "cell_type": "code",
   "execution_count": 1,
   "id": "69d022b0-acd2-4838-9ad9-c0ca845c34d1",
   "metadata": {},
   "outputs": [],
   "source": [
    "#Import Libraries\n",
    "import pandas as pd\n",
    "import numpy as np\n",
    "import os"
   ]
  },
  {
   "cell_type": "markdown",
   "id": "20d248c8-3123-4f40-b016-fe71a69e8a18",
   "metadata": {},
   "source": [
    "## Python Data Types"
   ]
  },
  {
   "cell_type": "markdown",
   "id": "46dec860-29ab-42ea-bf40-d8a8bfbc536f",
   "metadata": {},
   "source": [
    "7. 3 ways of getting 100"
   ]
  },
  {
   "cell_type": "code",
   "execution_count": 2,
   "id": "6b0b0c29-2353-45ce-b9b6-3d5336abbde5",
   "metadata": {},
   "outputs": [],
   "source": [
    "x = 50"
   ]
  },
  {
   "cell_type": "code",
   "execution_count": 4,
   "id": "afd3fc1b-edee-472f-8d89-7eca84e7f899",
   "metadata": {},
   "outputs": [
    {
     "data": {
      "text/plain": [
       "100"
      ]
     },
     "execution_count": 4,
     "metadata": {},
     "output_type": "execute_result"
    }
   ],
   "source": [
    "x+x"
   ]
  },
  {
   "cell_type": "code",
   "execution_count": 5,
   "id": "584712e8-4d5b-496d-8225-b923d4c986b7",
   "metadata": {},
   "outputs": [
    {
     "data": {
      "text/plain": [
       "100"
      ]
     },
     "execution_count": 5,
     "metadata": {},
     "output_type": "execute_result"
    }
   ],
   "source": [
    "x * 2"
   ]
  },
  {
   "cell_type": "code",
   "execution_count": 6,
   "id": "cb5b785d-2e4a-497e-b0c2-952217aec66f",
   "metadata": {},
   "outputs": [
    {
     "data": {
      "text/plain": [
       "100"
      ]
     },
     "execution_count": 6,
     "metadata": {},
     "output_type": "execute_result"
    }
   ],
   "source": [
    "150 - x"
   ]
  },
  {
   "cell_type": "markdown",
   "id": "8a7e319b-d41a-4cf8-a2d3-a839002393c2",
   "metadata": {},
   "source": [
    "8. code 2 floating variables and divide them by each other"
   ]
  },
  {
   "cell_type": "code",
   "execution_count": 11,
   "id": "3a70910b-6d47-4c94-b6cf-0edc038f537b",
   "metadata": {},
   "outputs": [],
   "source": [
    "y = 2.5"
   ]
  },
  {
   "cell_type": "code",
   "execution_count": 12,
   "id": "ff11f82a-c6fd-4e7c-9b0b-50dfaf8bd70b",
   "metadata": {},
   "outputs": [],
   "source": [
    "x = 5.5"
   ]
  },
  {
   "cell_type": "code",
   "execution_count": 13,
   "id": "0f53e464-6293-44ce-9231-9d1dd69d54c5",
   "metadata": {},
   "outputs": [
    {
     "name": "stdout",
     "output_type": "stream",
     "text": [
      "5.5\n",
      "2.5\n"
     ]
    }
   ],
   "source": [
    "print(x)\n",
    "print(y)"
   ]
  },
  {
   "cell_type": "code",
   "execution_count": 14,
   "id": "ed973963-beb5-48f2-a929-bea52edf9ef9",
   "metadata": {},
   "outputs": [
    {
     "data": {
      "text/plain": [
       "2.2"
      ]
     },
     "execution_count": 14,
     "metadata": {},
     "output_type": "execute_result"
    }
   ],
   "source": [
    "x/y"
   ]
  },
  {
   "cell_type": "code",
   "execution_count": 15,
   "id": "4a9531fb-39d2-485a-a235-b02688c35f31",
   "metadata": {},
   "outputs": [
    {
     "data": {
      "text/plain": [
       "0.45454545454545453"
      ]
     },
     "execution_count": 15,
     "metadata": {},
     "output_type": "execute_result"
    }
   ],
   "source": [
    "y/x"
   ]
  },
  {
   "cell_type": "markdown",
   "id": "eccdcc25-c189-43cb-aeff-2208740c77de",
   "metadata": {},
   "source": [
    "9. Construct a short word made of seperate strings"
   ]
  },
  {
   "cell_type": "code",
   "execution_count": 16,
   "id": "117bc207-55c7-4a9a-94bc-35b1a9b85946",
   "metadata": {},
   "outputs": [],
   "source": [
    "a = 'Sun'"
   ]
  },
  {
   "cell_type": "code",
   "execution_count": 17,
   "id": "dc0905b3-ad32-4ec9-ba9a-b1d613e96f6f",
   "metadata": {},
   "outputs": [],
   "source": [
    "b = 'shine'"
   ]
  },
  {
   "cell_type": "code",
   "execution_count": 18,
   "id": "ab6b3d0d-aea9-4673-938d-f18c6befb597",
   "metadata": {},
   "outputs": [
    {
     "data": {
      "text/plain": [
       "'Sunshine'"
      ]
     },
     "execution_count": 18,
     "metadata": {},
     "output_type": "execute_result"
    }
   ],
   "source": [
    "a+b"
   ]
  },
  {
   "cell_type": "markdown",
   "id": "c59244f4-02ed-4edb-bcd5-48dfca849992",
   "metadata": {},
   "source": [
    "10. Contruct 2 short sentences made of seperate strings"
   ]
  },
  {
   "cell_type": "code",
   "execution_count": 19,
   "id": "0c286a88-da4b-43fd-9819-b3443da7c341",
   "metadata": {},
   "outputs": [],
   "source": [
    "c = 'Today I learned some Python basics.'"
   ]
  },
  {
   "cell_type": "code",
   "execution_count": 20,
   "id": "5d7a0051-eb29-4238-929c-538c99cd914b",
   "metadata": {},
   "outputs": [],
   "source": [
    "d = ' I hope to complete Exercise 4.2 from what I learned'"
   ]
  },
  {
   "cell_type": "code",
   "execution_count": 21,
   "id": "3f8e5467-99da-47f0-99b0-58a451fe8720",
   "metadata": {},
   "outputs": [
    {
     "data": {
      "text/plain": [
       "'Today I learned some Python basics. I hope to complete Exercise 4.2 from what I learned'"
      ]
     },
     "execution_count": 21,
     "metadata": {},
     "output_type": "execute_result"
    }
   ],
   "source": [
    "c+d"
   ]
  },
  {
   "cell_type": "code",
   "execution_count": null,
   "id": "d5b8b5b2-9ed1-4d39-911f-0e1529341b05",
   "metadata": {},
   "outputs": [],
   "source": []
  }
 ],
 "metadata": {
  "kernelspec": {
   "display_name": "Python [conda env:base] *",
   "language": "python",
   "name": "conda-base-py"
  },
  "language_info": {
   "codemirror_mode": {
    "name": "ipython",
    "version": 3
   },
   "file_extension": ".py",
   "mimetype": "text/x-python",
   "name": "python",
   "nbconvert_exporter": "python",
   "pygments_lexer": "ipython3",
   "version": "3.13.5"
  }
 },
 "nbformat": 4,
 "nbformat_minor": 5
}
